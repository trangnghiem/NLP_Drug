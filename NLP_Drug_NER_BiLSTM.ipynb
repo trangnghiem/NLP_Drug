{
  "nbformat": 4,
  "nbformat_minor": 0,
  "metadata": {
    "colab": {
      "name": "Copie de NLP_Drug_NER_BiLSTM.ipynb",
      "provenance": [],
      "collapsed_sections": []
    },
    "kernelspec": {
      "name": "python3",
      "display_name": "Python 3"
    }
  },
  "cells": [
    {
      "cell_type": "code",
      "metadata": {
        "id": "mxBM8yLd91tk"
      },
      "source": [
        "#!pip install tensorflow==1.14.0"
      ],
      "execution_count": null,
      "outputs": []
    },
    {
      "cell_type": "code",
      "metadata": {
        "id": "YHMkdkn99wMl",
        "colab": {
          "base_uri": "https://localhost:8080/"
        },
        "outputId": "d6e7adee-e92d-45fa-b9b1-010c8b1846d9"
      },
      "source": [
        "!pip -qqq install git+https://www.github.com/keras-team/keras-contrib.git\n",
        "#!pip -qqq install --upgrade keras"
      ],
      "execution_count": null,
      "outputs": [
        {
          "output_type": "stream",
          "text": [
            "  Building wheel for keras-contrib (setup.py) ... \u001b[?25l\u001b[?25hdone\n"
          ],
          "name": "stdout"
        }
      ]
    },
    {
      "cell_type": "code",
      "metadata": {
        "id": "xIT7Lp6A9xI5",
        "colab": {
          "base_uri": "https://localhost:8080/"
        },
        "outputId": "bddb6d63-fd41-43e7-dbed-950577c132a6"
      },
      "source": [
        "!pip install keras==2.2.4"
      ],
      "execution_count": null,
      "outputs": [
        {
          "output_type": "stream",
          "text": [
            "Requirement already satisfied: keras==2.2.4 in /usr/local/lib/python3.7/dist-packages (2.2.4)\n",
            "Requirement already satisfied: pyyaml in /usr/local/lib/python3.7/dist-packages (from keras==2.2.4) (3.13)\n",
            "Requirement already satisfied: six>=1.9.0 in /usr/local/lib/python3.7/dist-packages (from keras==2.2.4) (1.15.0)\n",
            "Requirement already satisfied: h5py in /usr/local/lib/python3.7/dist-packages (from keras==2.2.4) (3.1.0)\n",
            "Requirement already satisfied: numpy>=1.9.1 in /usr/local/lib/python3.7/dist-packages (from keras==2.2.4) (1.19.5)\n",
            "Requirement already satisfied: keras-applications>=1.0.6 in /usr/local/lib/python3.7/dist-packages (from keras==2.2.4) (1.0.8)\n",
            "Requirement already satisfied: scipy>=0.14 in /usr/local/lib/python3.7/dist-packages (from keras==2.2.4) (1.4.1)\n",
            "Requirement already satisfied: keras-preprocessing>=1.0.5 in /usr/local/lib/python3.7/dist-packages (from keras==2.2.4) (1.1.2)\n",
            "Requirement already satisfied: cached-property; python_version < \"3.8\" in /usr/local/lib/python3.7/dist-packages (from h5py->keras==2.2.4) (1.5.2)\n"
          ],
          "name": "stdout"
        }
      ]
    },
    {
      "cell_type": "code",
      "metadata": {
        "id": "Z3sTn8Hz92Jw",
        "colab": {
          "base_uri": "https://localhost:8080/"
        },
        "outputId": "217fb0fb-9b45-449e-c029-e031c2ec333d"
      },
      "source": [
        "!pip install sklearn_crfsuite"
      ],
      "execution_count": null,
      "outputs": [
        {
          "output_type": "stream",
          "text": [
            "Requirement already satisfied: sklearn_crfsuite in /usr/local/lib/python3.7/dist-packages (0.3.6)\n",
            "Requirement already satisfied: python-crfsuite>=0.8.3 in /usr/local/lib/python3.7/dist-packages (from sklearn_crfsuite) (0.9.7)\n",
            "Requirement already satisfied: tabulate in /usr/local/lib/python3.7/dist-packages (from sklearn_crfsuite) (0.8.9)\n",
            "Requirement already satisfied: six in /usr/local/lib/python3.7/dist-packages (from sklearn_crfsuite) (1.15.0)\n",
            "Requirement already satisfied: tqdm>=2.0 in /usr/local/lib/python3.7/dist-packages (from sklearn_crfsuite) (4.41.1)\n"
          ],
          "name": "stdout"
        }
      ]
    },
    {
      "cell_type": "code",
      "metadata": {
        "id": "sYijevvw9372"
      },
      "source": [
        "import pandas as pd\n",
        "import numpy as np\n",
        "\n",
        "import os\n",
        "import re\n",
        "import string\n",
        "import pickle\n",
        "import matplotlib.pyplot as plt\n",
        "%matplotlib inline\n",
        "\n",
        "import tensorflow as tf\n",
        "from google.colab import files\n",
        "\n",
        "import warnings\n",
        "warnings.filterwarnings(\"ignore\")\n",
        "\n",
        "from keras.preprocessing.sequence import pad_sequences\n",
        "from keras.utils import to_categorical\n",
        "from keras.layers import LSTM, Dense, TimeDistributed, Embedding, Bidirectional\n",
        "from keras.layers import Dropout, Flatten, RepeatVector, Activation, Permute, merge, Lambda\n",
        "from keras.models import Model, Input\n",
        "from keras.callbacks import ModelCheckpoint, EarlyStopping\n",
        "from tensorflow.keras.wrappers.scikit_learn import KerasClassifier #KerasRegressor\n",
        "from keras.preprocessing.text import text_to_word_sequence\n",
        "#import keras\n",
        "\n",
        "from tqdm import tqdm\n",
        "import scipy.stats\n",
        "from collections import Counter\n",
        "from sklearn.utils import class_weight\n",
        "from sklearn.metrics import make_scorer, classification_report\n",
        "from sklearn.pipeline import Pipeline\n",
        "from sklearn.model_selection import train_test_split, StratifiedKFold, GridSearchCV, RandomizedSearchCV\n",
        "from sklearn.model_selection import RepeatedKFold, cross_val_score\n",
        "\n",
        "from sklearn_crfsuite.metrics import flat_classification_report, flat_f1_score, flat_precision_score, flat_recall_score\n",
        "\n",
        "\n",
        "\n",
        "#np.random.seed(1337) # for reproducibility\n",
        "from keras_contrib.layers import CRF\n",
        "from keras_contrib.losses import crf_loss"
      ],
      "execution_count": null,
      "outputs": []
    },
    {
      "cell_type": "code",
      "metadata": {
        "id": "gF0tF5flGdYh"
      },
      "source": [
        "from numpy.random import seed\n",
        "seed(1)\n",
        "np.random.seed(0)"
      ],
      "execution_count": null,
      "outputs": []
    },
    {
      "cell_type": "code",
      "metadata": {
        "id": "-kfnzIWfEBjc"
      },
      "source": [
        "def get_approx_metrics(df, test_phrases, model, X_test): \n",
        "\n",
        "  df['I_ADR'] = df['I_ADR'].astype(str)\n",
        "  df['I_Drug'] = df['I_Drug'].astype(str)\n",
        "  df['I_ADR_split'] = list(map(lambda x: x.split(','), df['I_ADR']))\n",
        "  df['I_Drug_split'] = list(map(lambda x: x.split(','), df['I_Drug']))\n",
        "\n",
        "  count_correctly_predicted_IADR = 0 #ADRspans correctly identified\n",
        "  count_actual_IADR = 0 #actual ADR spans\n",
        "  count_predicted_IADR = 0 #ADRspans predicted\n",
        "\n",
        "\n",
        "  for i in range(len(test_phrases)): #len(test_phrases)\n",
        "\n",
        "    #Find all rows in df_check_final \n",
        "    if len(df[df['sentence']==test_phrases[i]]) == 0:\n",
        "      #if df_final[df_final['sentence'].str.contains(test_phrases[i][0:60])]:\n",
        "        print('To check special characters : ', test_phrases[i])\n",
        "      #else:\n",
        "        #df_n = df_final[df_final['sentence'].str.contains(test_phrases[i][0:60])].reset_index()\n",
        "\n",
        "    else:\n",
        "      df_n = df[df['sentence']==test_phrases[i]].reset_index()\n",
        "\n",
        "      # Evaluation\n",
        "      y_pred = model.predict(np.array([X_test[i]]))\n",
        "      y_pred = np.argmax(y_pred, axis=-1)\n",
        "      # Convert the index to tag\n",
        "      y_pred = [[idx2tag[i] for i in row] for row in y_pred]\n",
        "      #Remouve padding \n",
        "      y_pred = list(filter(lambda x: x!= 'PAD', y_pred[0]))\n",
        "      #print(y_pred)\n",
        "\n",
        "      df_n['prediction'] = y_pred\n",
        "\n",
        "      #Actuel I_ADR\n",
        "      n_actual_IADR = len(df_n.loc[1, 'I_ADR_split']) #len(df_n[df_n['tag']=='I_ADR'])\n",
        "      count_actual_IADR += n_actual_IADR\n",
        "      \n",
        "      #Predicted I_ADR\n",
        "      indices_row_predited_ADR = [i for i, x in enumerate(df_n['prediction'].to_list()) if x == \"I_ADR\"]\n",
        "      #print(indices_row_predited_ADR)\n",
        "      if indices_row_predited_ADR:\n",
        "        check_continuity = ([(indices_row_predited_ADR[i+1] - indices_row_predited_ADR[i])\n",
        "                            for i in range(len(indices_row_predited_ADR)-1)])\n",
        "        #print(check_continuity)\n",
        "        #if check_continuity:\n",
        "        count_predicted_IADR += len([i for i in check_continuity if i > 1]) + 1 \n",
        "        #print(count_predicted_IADR)\n",
        "      \n",
        "      for j in range(len(df_n.loc[1, 'I_ADR_split'])):\n",
        "\n",
        "        groupe_words = df_n.loc[1, 'I_ADR_split'][j]\n",
        "        indexes = df_n.loc[1, 'new_index_IADR'][2*j:2*(j+1)]\n",
        "\n",
        "        df_groupe_words = df_n[(df_n['index']>=indexes[0]) & (df_n['index']<=indexes[1])]\n",
        "        n_pred = len(df_groupe_words[df_groupe_words['prediction']=='I_ADR'])\n",
        "        if n_pred > 0:\n",
        "          count_correctly_predicted_IADR += 1 #n_pred #n_predited_IADR\n",
        "\n",
        "  approximate_match_precision = count_correctly_predicted_IADR/count_predicted_IADR\n",
        "  approximate_match_recall = count_correctly_predicted_IADR/count_actual_IADR\n",
        "  approximate_match_F1score = (2 * approximate_match_precision * approximate_match_recall /\n",
        "                              (approximate_match_precision + approximate_match_recall))\n",
        "  \n",
        "  return approximate_match_precision, approximate_match_recall, approximate_match_F1score\n"
      ],
      "execution_count": null,
      "outputs": []
    },
    {
      "cell_type": "code",
      "metadata": {
        "id": "9oattKMi974v"
      },
      "source": [
        "with open('ADE_POS_to_NER_withPOS_TAG.pickle', 'rb') as handle:\n",
        "    df = pickle.load(handle)"
      ],
      "execution_count": null,
      "outputs": []
    },
    {
      "cell_type": "code",
      "metadata": {
        "id": "Yc13S6l0-FAx"
      },
      "source": [
        "class SentenceGetter(object):\n",
        "    \n",
        "    def __init__(self, data):\n",
        "        self.n_sent = 1\n",
        "        self.data = data\n",
        "        self.empty = False\n",
        "        agg_func = lambda s: [(w,  t) for w,  t in zip(s['Word'].values.tolist(),                                                            \n",
        "                                                           s['tag'].values.tolist())]\n",
        "        self.grouped = self.data.groupby('sentence').apply(agg_func)\n",
        "        self.sentences = [s for s in self.grouped]\n",
        "        \n",
        "    def get_next(self):\n",
        "        try: \n",
        "            s = self.grouped['Sentence: {}'.format(self.n_sent)]\n",
        "            self.n_sent += 1\n",
        "            return s \n",
        "        except:\n",
        "            return None"
      ],
      "execution_count": null,
      "outputs": []
    },
    {
      "cell_type": "code",
      "metadata": {
        "id": "fNWcOn5M-Hh7",
        "colab": {
          "base_uri": "https://localhost:8080/",
          "height": 90
        },
        "outputId": "e82387ac-eb09-4bb3-fd71-d5d514b5b476"
      },
      "source": [
        "#Displaying one full sentence\n",
        "getter = SentenceGetter(df)\n",
        "sentences = [\" \".join([s[0] for s in sent]) for sent in getter.sentences]\n",
        "#sentence with its tag.\n",
        "sentences = getter.sentences\n",
        "\n",
        "words = list(set(df[\"Word\"].values))\n",
        "words.append(\"ENDPAD\")\n",
        "n_words = len(words)\n",
        "print('Total unique words: ', n_words)\n",
        "\n",
        "max_len = max([len(s) for s in sentences])\n",
        "print ('Maximum sequence length:', max_len)\n",
        "\n",
        "tags = list(set(df[\"tag\"].values))\n",
        "print('Tags are : ', tags)\n",
        "num_tag = df['tag'].nunique()\n",
        "print('Number of tags : ', num_tag)"
      ],
      "execution_count": null,
      "outputs": [
        {
          "output_type": "stream",
          "text": [
            "Total unique words:  8671\n",
            "Maximum sequence length: 94\n",
            "Tags are :  ['I_ADR', 'O', 'I_Drug']\n",
            "Number of tags :  3\n"
          ],
          "name": "stdout"
        }
      ]
    },
    {
      "cell_type": "code",
      "metadata": {
        "id": "dl0YGtIw-Hlb",
        "colab": {
          "base_uri": "https://localhost:8080/",
          "height": 35
        },
        "outputId": "8c18a655-97fd-4dfb-b647-cd58b84c2364"
      },
      "source": [
        "#Getting unique words and labels from data\n",
        "words = list(df['Word'].unique())\n",
        "tags = list(df['tag'].unique())\n",
        "# Dictionary word:index pair\n",
        "# word is key and its value is corresponding index\n",
        "word_to_index = {w : i + 2 for i, w in enumerate(words)}\n",
        "word_to_index[\"UNK\"] = 1\n",
        "word_to_index[\"PAD\"] = 0\n",
        "\n",
        "# Dictionary lable:index pair\n",
        "# label is key and value is index.\n",
        "tag_to_index = {t : i + 1 for i, t in enumerate(tags)}\n",
        "tag_to_index[\"PAD\"] = 0\n",
        "\n",
        "idx2word = {i: w for w, i in word_to_index.items()}\n",
        "idx2tag = {i: w for w, i in tag_to_index.items()}\n",
        "idx2tag"
      ],
      "execution_count": null,
      "outputs": [
        {
          "output_type": "execute_result",
          "data": {
            "text/plain": [
              "{0: 'PAD', 1: 'O', 2: 'I_ADR', 3: 'I_Drug'}"
            ]
          },
          "metadata": {
            "tags": []
          },
          "execution_count": 6
        }
      ]
    },
    {
      "cell_type": "code",
      "metadata": {
        "id": "16cyDnt8-QJ4"
      },
      "source": [
        "def sentences_to_vectors(sentences, max_len=max_len, num_tag=num_tag):\n",
        "  # Converting each sentence into list of index from list of tokens\n",
        "  X = [[word_to_index[w[0]] for w in s] for s in sentences]\n",
        "  # Padding each sequence to have same length  of each word\n",
        "  X = pad_sequences(maxlen = max_len, sequences = X, padding = \"post\", value = word_to_index[\"PAD\"])\n",
        "\n",
        "  # Convert label to index\n",
        "  y = [[tag_to_index[w[1]] for w in s] for s in sentences]\n",
        "\n",
        "  # padding\n",
        "  y = pad_sequences(maxlen = max_len, sequences = y, padding = \"post\", value = tag_to_index[\"PAD\"])\n",
        "\n",
        "  ### Compute class_weights\n",
        "  n_class = [sum([Counter(y[i])[j] for i in range(len(y))]) for j in range(num_tag + 1)]\n",
        "  class_weights = {max(n_class)/n_class[i] for i in range(len(n_class))}\n",
        "\n",
        "  # One hot encoded labels\n",
        "  y = [to_categorical(i, num_classes = num_tag + 1) for i in y]\n",
        "\n",
        "  return X, y, n_class, class_weights"
      ],
      "execution_count": null,
      "outputs": []
    },
    {
      "cell_type": "code",
      "metadata": {
        "id": "ipCiLzbC-SBL"
      },
      "source": [
        "train_sentences, test_sentences = train_test_split(sentences, test_size=0.3, random_state=1)\n",
        "\n",
        "X_test, y_test, n_class, class_weights = sentences_to_vectors(test_sentences)\n",
        "X_train, y_train, n_class, class_weights = sentences_to_vectors(train_sentences)"
      ],
      "execution_count": null,
      "outputs": []
    },
    {
      "cell_type": "code",
      "metadata": {
        "id": "EZbEq5BvVflQ",
        "colab": {
          "base_uri": "https://localhost:8080/",
          "height": 35
        },
        "outputId": "465e8471-5c94-40b1-aa33-47337d5eb2a5"
      },
      "source": [
        "class_weights"
      ],
      "execution_count": null,
      "outputs": [
        {
          "output_type": "execute_result",
          "data": {
            "text/plain": [
              "{1.0, 4.897698998128372, 25.371164594502112, 51.074397244546496}"
            ]
          },
          "metadata": {
            "tags": []
          },
          "execution_count": 12
        }
      ]
    },
    {
      "cell_type": "code",
      "metadata": {
        "id": "a4oIaOYg-T-e"
      },
      "source": [
        "batch_size = 16\n",
        "epochs = 30\n",
        "embedding = 40"
      ],
      "execution_count": null,
      "outputs": []
    },
    {
      "cell_type": "code",
      "metadata": {
        "id": "8bc0Xv8TE_H2"
      },
      "source": [
        ""
      ],
      "execution_count": null,
      "outputs": []
    },
    {
      "cell_type": "code",
      "metadata": {
        "id": "pPlX1Hw9E_yK"
      },
      "source": [
        "#class_weights = {1, 2, 50, 200 }\n",
        "\n",
        "def make_model_BiLSTM(num_tag, embedding=embedding, hidden_size=50, optimizer='rmsprop'):\n",
        "    # Model architecture\n",
        "    input = Input(shape=(max_len,))\n",
        "    model = Embedding(input_dim=len(words) + 2, output_dim=embedding, input_length=max_len)(input)\n",
        "    model = Bidirectional(LSTM(units=hidden_size, return_sequences=True, recurrent_dropout=0.1))(model)\n",
        "    #model = Dropout(0.3)(model)\n",
        "    out   =  TimeDistributed(Dense(num_tag + 1, activation=\"softmax\"))(model)\n",
        "\n",
        "    model = Model(input, out)\n",
        "    model.compile(optimizer=optimizer, loss=\"categorical_crossentropy\", metrics=[\"accuracy\"])\n",
        "\n",
        "    model.summary()\n",
        "    return model\n",
        "\n",
        "model_BiLSTM = make_model_BiLSTM(num_tag)\n",
        "\n",
        "#Early Stopping\n",
        "es = EarlyStopping(monitor='val_loss', mode='min', patience=3, verbose=1, restore_best_weights=True)\n",
        "mc = ModelCheckpoint('best_model.h5', monitor='val_accuracy', mode='max', \n",
        "                     save_weights_only=True, save_best_only=True, verbose=1)"
      ],
      "execution_count": null,
      "outputs": []
    },
    {
      "cell_type": "code",
      "metadata": {
        "id": "9FZs5xjZDmKX",
        "colab": {
          "base_uri": "https://localhost:8080/",
          "height": 1000
        },
        "outputId": "9fe69a8e-3210-4474-f367-4bb36bdb9e37"
      },
      "source": [
        "\n",
        "\n",
        "history_1 = model_BiLSTM.fit(X_train, np.array(y_train), batch_size=batch_size, epochs=epochs,\n",
        "                    validation_split=0.1, callbacks=[es, mc], class_weight=class_weights)\n",
        "\n",
        "# Evaluation\n",
        "y_pred = model_BiLSTM.predict(X_test)\n",
        "y_pred = np.argmax(y_pred, axis=-1)\n",
        "y_test_true = np.argmax(y_test, -1)\n",
        "\n",
        "# Convert the index to tag\n",
        "y_pred = [[idx2tag[i] for i in row] for row in y_pred]\n",
        "y_test_true = [[idx2tag[i] for i in row] for row in y_test_true]\n",
        "\n",
        "labels = list(idx2tag.values())\n",
        "labels.remove('PAD')\n",
        "#labels.remove('O')\n",
        "print(labels)\n",
        "\n",
        "report = flat_classification_report(y_pred=y_pred, y_true=y_test_true, labels=labels, digits=4)\n",
        "print(report)\n",
        "\n",
        "approximate_match_precision, approximate_match_recall, approximate_match_F1score = get_approx_metrics(\n",
        "    df, test_phrases, model_BiLSTM, X_test)\n",
        "\n",
        "print('Approximatif precision : {:2.2%}'.format(approximate_match_precision))\n",
        "print('Approximatif recall : {:2.2%}'.format(approximate_match_recall))\n",
        "print('Approximatif F1-score : {:2.2%}'.format(approximate_match_F1score))"
      ],
      "execution_count": null,
      "outputs": [
        {
          "output_type": "stream",
          "text": [
            "_________________________________________________________________\n",
            "Layer (type)                 Output Shape              Param #   \n",
            "=================================================================\n",
            "input_3 (InputLayer)         (None, 94)                0         \n",
            "_________________________________________________________________\n",
            "embedding_3 (Embedding)      (None, 94, 40)            346880    \n",
            "_________________________________________________________________\n",
            "bidirectional_3 (Bidirection (None, 94, 100)           36400     \n",
            "_________________________________________________________________\n",
            "time_distributed_3 (TimeDist (None, 94, 4)             404       \n",
            "=================================================================\n",
            "Total params: 383,684\n",
            "Trainable params: 383,684\n",
            "Non-trainable params: 0\n",
            "_________________________________________________________________\n",
            "Train on 2690 samples, validate on 299 samples\n",
            "Epoch 1/30\n",
            "2690/2690 [==============================] - 27s 10ms/step - loss: 0.2200 - acc: 0.9267 - val_loss: 0.1106 - val_acc: 0.9565\n",
            "Epoch 2/30\n",
            "2690/2690 [==============================] - 22s 8ms/step - loss: 0.0875 - acc: 0.9660 - val_loss: 0.0746 - val_acc: 0.9712\n",
            "Epoch 3/30\n",
            "2690/2690 [==============================] - 22s 8ms/step - loss: 0.0604 - acc: 0.9778 - val_loss: 0.0664 - val_acc: 0.9754\n",
            "Epoch 4/30\n",
            "2690/2690 [==============================] - 22s 8ms/step - loss: 0.0464 - acc: 0.9836 - val_loss: 0.0540 - val_acc: 0.9799\n",
            "Epoch 5/30\n",
            "2690/2690 [==============================] - 23s 8ms/step - loss: 0.0385 - acc: 0.9867 - val_loss: 0.0524 - val_acc: 0.9810\n",
            "Epoch 6/30\n",
            "2690/2690 [==============================] - 23s 9ms/step - loss: 0.0331 - acc: 0.9887 - val_loss: 0.0504 - val_acc: 0.9815\n",
            "Epoch 7/30\n",
            "2690/2690 [==============================] - 22s 8ms/step - loss: 0.0291 - acc: 0.9899 - val_loss: 0.0487 - val_acc: 0.9825\n",
            "Epoch 8/30\n",
            "2690/2690 [==============================] - 22s 8ms/step - loss: 0.0253 - acc: 0.9913 - val_loss: 0.0522 - val_acc: 0.9820\n",
            "Epoch 9/30\n",
            "2690/2690 [==============================] - 23s 8ms/step - loss: 0.0223 - acc: 0.9924 - val_loss: 0.0508 - val_acc: 0.9818\n",
            "Epoch 10/30\n",
            "2690/2690 [==============================] - 22s 8ms/step - loss: 0.0199 - acc: 0.9934 - val_loss: 0.0508 - val_acc: 0.9829\n",
            "Restoring model weights from the end of the best epoch\n",
            "Epoch 00010: early stopping\n",
            "['O', 'I_ADR', 'I_Drug']\n",
            "              precision    recall  f1-score   support\n",
            "\n",
            "           O     0.9337    0.9663    0.9497     18702\n",
            "       I_ADR     0.8428    0.7365    0.7861      3829\n",
            "      I_Drug     0.8755    0.7949    0.8333      1858\n",
            "\n",
            "   micro avg     0.9172    0.9172    0.9172     24389\n",
            "   macro avg     0.8840    0.8326    0.8564     24389\n",
            "weighted avg     0.9150    0.9172    0.9151     24389\n",
            "\n",
            "To check special characters :  We conclude that neurosurgeons and neurologists should be aware of calcium antagonist - - related ileus in patients treated with nimodipine\n",
            "To check special characters :  In eight patients a mean decrease in serum Na of 8.25 / - 3.2 mEq / L was observed after a single 200 mg intravenous dose of lorcainide\n",
            "To check special characters :  Vancomycin is widely used against methicillin - resistant Staphylococcus aureus infections but it is associated with many adverse effects such as nephrotoxicity ototoxicity gastrointestinal disturbances blood disorders and two types of hypersensitivity reactions - an anaphylactoid reaction known as red man syndrome and anaphylaxis\n",
            "To check special characters :  5 - Fluorouracil cardiotoxicity complicating treatment of stage IIB cervical cancer - - case report\n",
            "To check special characters :  Carboplatin hypersensitivity presenting as coronary vasospasm - a case report\n",
            "To check special characters :  We describe a patient who developed NEH on three separate occasions provoked by two different chemotherapeutic agents - - cytarabine and mitoxantrone\n",
            "To check special characters :  Portal vein thrombosis in a patient with severe haemophilia A and F V G1691A mutation during continuous infusion of F VIII after intramural jejunal bleeding - - successful thrombolysis under heparin therapy\n",
            "To check special characters :  Actinomycin D associated hepatic veno - occlusive disease - - a report of 2 cases\n",
            "To check special characters :  Captopril - related and - induced? asthma\n",
            "To check special characters :  RESULTS: After 4 - to 14 - month period of therapy with the combination of indapamide 2.5 mg / day and fosinopril 10 mg / day in three patients and 6 - month period of monotherapy with indapamide 2.5 mg / day in one patient glucose levels of all patients increased and achieve criteria of diabetes diagnoses\n",
            "To check special characters :  Leishmania infantum leishmaniasis in corticosteroid - - treated patients\n",
            "To check special characters :  CONCLUSION: A 37 - year - old African - American man with G6PD deficiency developed hemolytic anemia hepatitis orthostatic hypotension and aseptic meningitis simultaneously after using trimethoprim - sulfamethoxazole\n",
            "Approximatif precision : 85.89%\n",
            "Approximatif recall : 84.10%\n",
            "Approximatif F1-score : 84.99%\n"
          ],
          "name": "stdout"
        }
      ]
    },
    {
      "cell_type": "code",
      "metadata": {
        "id": "HlB_8U33HEpi",
        "colab": {
          "base_uri": "https://localhost:8080/",
          "height": 472
        },
        "outputId": "04277512-503b-4235-a4d0-4d3f3cca3739"
      },
      "source": [
        "# At every execution model picks some random test sample from test set.\n",
        "test_phrases = [\" \".join([s[0] for s in sent]) for sent in test_sentences]\n",
        "\n",
        "i = np.random.randint(0,X_test.shape[0]) # choose a random number between 0 and len(X_test)\n",
        "p = model_BiLSTM.predict(np.array([X_test[i]]))\n",
        "p = np.argmax(p, axis=-1)\n",
        "true = np.argmax(y_test[i], -1)\n",
        "\n",
        "print(\"Sample number {} of {} (Test Set)\".format(i, X_test.shape[0]))\n",
        "\n",
        "# Visualization\n",
        "print(\"{:18}||{:6}||{}\".format(\"Word\", \"True\", \"Pred\"))\n",
        "print(30 * \"=\")\n",
        "for w, t, pred in zip(X_test[i], true, p[0]):\n",
        "    if w != 0:\n",
        "        print(\"{:18}: {:6} {}\".format(words[w-2], idx2tag[t], idx2tag[pred]))"
      ],
      "execution_count": null,
      "outputs": [
        {
          "output_type": "stream",
          "text": [
            "Sample number 910 of 1282 (Test Set)\n",
            "Word              ||True  ||Pred\n",
            "==============================\n",
            "This              : O      O\n",
            "patient           : O      O\n",
            "rapidly           : O      O\n",
            "progressed        : O      O\n",
            "from              : O      O\n",
            "mild              : I_ADR  I_ADR\n",
            "neurotoxicity     : I_ADR  I_ADR\n",
            "to                : O      I_ADR\n",
            "fatal             : I_ADR  I_ADR\n",
            "encephalopathy    : I_ADR  I_ADR\n",
            "after             : O      O\n",
            "one               : O      O\n",
            "dose              : O      O\n",
            "of                : O      O\n",
            "intrathecal       : O      O\n",
            "methotrexate      : I_Drug I_Drug\n",
            "during            : O      O\n",
            "his               : O      O\n",
            "third             : O      O\n",
            "cycle             : O      O\n",
            "of                : O      O\n",
            "chemotherapy      : O      O\n"
          ],
          "name": "stdout"
        }
      ]
    },
    {
      "cell_type": "code",
      "metadata": {
        "id": "yIf0Vhk8FFNS",
        "colab": {
          "base_uri": "https://localhost:8080/",
          "height": 310
        },
        "outputId": "d3e1dc19-4646-4788-e37b-393e305c6eff"
      },
      "source": [
        ""
      ],
      "execution_count": null,
      "outputs": [
        {
          "output_type": "stream",
          "text": [
            "To check special characters :  We conclude that neurosurgeons and neurologists should be aware of calcium antagonist - - related ileus in patients treated with nimodipine\n",
            "To check special characters :  In eight patients a mean decrease in serum Na of 8.25 / - 3.2 mEq / L was observed after a single 200 mg intravenous dose of lorcainide\n",
            "To check special characters :  Vancomycin is widely used against methicillin - resistant Staphylococcus aureus infections but it is associated with many adverse effects such as nephrotoxicity ototoxicity gastrointestinal disturbances blood disorders and two types of hypersensitivity reactions - an anaphylactoid reaction known as red man syndrome and anaphylaxis\n",
            "To check special characters :  5 - Fluorouracil cardiotoxicity complicating treatment of stage IIB cervical cancer - - case report\n",
            "To check special characters :  Carboplatin hypersensitivity presenting as coronary vasospasm - a case report\n",
            "To check special characters :  We describe a patient who developed NEH on three separate occasions provoked by two different chemotherapeutic agents - - cytarabine and mitoxantrone\n",
            "To check special characters :  Portal vein thrombosis in a patient with severe haemophilia A and F V G1691A mutation during continuous infusion of F VIII after intramural jejunal bleeding - - successful thrombolysis under heparin therapy\n",
            "To check special characters :  Actinomycin D associated hepatic veno - occlusive disease - - a report of 2 cases\n",
            "To check special characters :  Captopril - related and - induced? asthma\n",
            "To check special characters :  RESULTS: After 4 - to 14 - month period of therapy with the combination of indapamide 2.5 mg / day and fosinopril 10 mg / day in three patients and 6 - month period of monotherapy with indapamide 2.5 mg / day in one patient glucose levels of all patients increased and achieve criteria of diabetes diagnoses\n",
            "To check special characters :  Leishmania infantum leishmaniasis in corticosteroid - - treated patients\n",
            "To check special characters :  CONCLUSION: A 37 - year - old African - American man with G6PD deficiency developed hemolytic anemia hepatitis orthostatic hypotension and aseptic meningitis simultaneously after using trimethoprim - sulfamethoxazole\n",
            "Approximatif precision : 83.15%\n",
            "Approximatif recall : 85.77%\n",
            "Approximatif F1-score : 84.44%\n"
          ],
          "name": "stdout"
        }
      ]
    },
    {
      "cell_type": "code",
      "metadata": {
        "id": "VhPc18onElgm"
      },
      "source": [
        ""
      ],
      "execution_count": null,
      "outputs": []
    },
    {
      "cell_type": "code",
      "metadata": {
        "id": "d5I2IxjVElo5"
      },
      "source": [
        ""
      ],
      "execution_count": null,
      "outputs": []
    },
    {
      "cell_type": "code",
      "metadata": {
        "id": "pJf_Q84PjAIY"
      },
      "source": [
        "test_phrases = [\" \".join([s[0] for s in sent]) for sent in test_sentences]\n",
        "test_phrases[0]\n",
        "\n",
        "df['I_ADR'] = df['I_ADR'].astype(str)\n",
        "df['I_Drug'] = df['I_Drug'].astype(str)\n",
        "df['I_ADR_split'] = list(map(lambda x: x.split(','), df['I_ADR']))\n",
        "df['I_Drug_split'] = list(map(lambda x: x.split(','), df['I_Drug']))\n",
        "\n",
        "count_correctly_predicted_IADR = 0 #ADRspans correctly identified\n",
        "count_actual_IADR = 0 #actual ADR spans\n",
        "count_predicted_IADR = 0 #ADRspans predicted\n",
        "\n",
        "\n",
        "for i in range(len(test_phrases)): #len(test_phrases)\n",
        "\n",
        "  #Find all rows in df_check_final \n",
        "  if len(df[df['sentence']==test_phrases[i]]) > 0:\n",
        "    #if df_final[df_final['sentence'].str.contains(test_phrases[i][0:60])]:\n",
        "    #print('To check special characters : ', test_phrases[i])\n",
        "    #else:\n",
        "      #df_n = df_final[df_final['sentence'].str.contains(test_phrases[i][0:60])].reset_index()\n",
        "\n",
        "  #else:\n",
        "    df_n = df[df['sentence']==test_phrases[i]].reset_index()\n",
        "\n",
        "    # Evaluation\n",
        "    y_pred = model_BiLSTM.predict(np.array([X_test[i]]))\n",
        "    y_pred = np.argmax(y_pred, axis=-1)\n",
        "    # Convert the index to tag\n",
        "    y_pred = [[idx2tag[i] for i in row] for row in y_pred]\n",
        "    #Remouve padding \n",
        "    y_pred = list(filter(lambda x: x!= 'PAD', y_pred[0]))\n",
        "    #print(y_pred)\n",
        "\n",
        "    df_n['prediction'] = y_pred\n",
        "\n",
        "    #Actuel I_ADR\n",
        "    n_actual_IADR = len(df_n.loc[1, 'I_ADR_split'])\n",
        "    count_actual_IADR += n_actual_IADR\n",
        "    \n",
        "    #Predicted I_ADR\n",
        "    indices_row_predited_ADR = [i for i, x in enumerate(df_n['prediction'].to_list()) if x == \"I_ADR\"]\n",
        "    #print(indices_row_predited_ADR)\n",
        "    if indices_row_predited_ADR:\n",
        "      check_continuity = ([(indices_row_predited_ADR[i+1] - indices_row_predited_ADR[i])\n",
        "                          for i in range(len(indices_row_predited_ADR)-1)])\n",
        "      #print(check_continuity)\n",
        "      #if check_continuity:\n",
        "      count_predicted_IADR += len([i for i in check_continuity if i > 1]) + 1 \n",
        "      #print(count_predicted_IADR)\n",
        "    \n",
        "    for j in range(len(df_n.loc[1, 'I_ADR_split'])):\n",
        "\n",
        "      groupe_words = df_n.loc[1, 'I_ADR_split'][j]\n",
        "      indexes = df_n.loc[1, 'new_index_IADR'][2*j:2*(j+1)]\n",
        "\n",
        "      df_groupe_words = df_n[(df_n['index']>=indexes[0]) & (df_n['index']<=indexes[1])]\n",
        "      n_pred = len(df_groupe_words[df_groupe_words['prediction']=='I_ADR'])\n",
        "      if n_pred > 0:\n",
        "        count_correctly_predicted_IADR += 1 #n_pred #n_predited_IADR\n",
        "\n",
        "approximate_match_precision = count_correctly_predicted_IADR/count_predicted_IADR\n",
        "approximate_match_recall = count_correctly_predicted_IADR/count_actual_IADR\n",
        "approximate_match_F1score = (2 * approximate_match_precision * approximate_match_recall /\n",
        "                             (approximate_match_precision + approximate_match_recall))\n",
        "\n",
        "print('Number of ADR actual : ', count_actual_IADR)\n",
        "print('Number of ADR predicted : ', count_predicted_IADR)\n",
        "print('Number of ADR correctly identified  : ',count_correctly_predicted_IADR)\n",
        "print('Approximatif precision : {:2.2%}'.format(approximate_match_precision))\n",
        "print('Approximatif recall : {:2.2%}'.format(approximate_match_recall))\n",
        "print('Approximatif F1-score : {:2.2%}'.format(approximate_match_F1score))\n"
      ],
      "execution_count": null,
      "outputs": []
    },
    {
      "cell_type": "code",
      "metadata": {
        "id": "oxPtfxOfoGiy",
        "colab": {
          "base_uri": "https://localhost:8080/",
          "height": 35
        },
        "outputId": "4b508675-0434-4f14-f9cf-d1bf21555122"
      },
      "source": [
        "model_BiLSTM"
      ],
      "execution_count": null,
      "outputs": [
        {
          "output_type": "execute_result",
          "data": {
            "text/plain": [
              "<keras.engine.training.Model at 0x7faa29615fd0>"
            ]
          },
          "metadata": {
            "tags": []
          },
          "execution_count": 27
        }
      ]
    },
    {
      "cell_type": "code",
      "metadata": {
        "id": "ex_27RfuQJ7g",
        "colab": {
          "base_uri": "https://localhost:8080/",
          "height": 310
        },
        "outputId": "3f41b319-ab68-405b-82ed-1589feaf3f32"
      },
      "source": [
        "approximate_match_precision, approximate_match_recall, approximate_match_F1score = get_approx_metrics(\n",
        "    df, test_phrases, model_BiLSTM, X_test)\n",
        "print('Approximatif precision : {:2.2%}'.format(approximate_match_precision))\n",
        "print('Approximatif recall : {:2.2%}'.format(approximate_match_recall))\n",
        "print('Approximatif F1-score : {:2.2%}'.format(approximate_match_F1score))"
      ],
      "execution_count": null,
      "outputs": [
        {
          "output_type": "stream",
          "text": [
            "To check special characters :  We conclude that neurosurgeons and neurologists should be aware of calcium antagonist - - related ileus in patients treated with nimodipine\n",
            "To check special characters :  In eight patients a mean decrease in serum Na of 8.25 / - 3.2 mEq / L was observed after a single 200 mg intravenous dose of lorcainide\n",
            "To check special characters :  Vancomycin is widely used against methicillin - resistant Staphylococcus aureus infections but it is associated with many adverse effects such as nephrotoxicity ototoxicity gastrointestinal disturbances blood disorders and two types of hypersensitivity reactions - an anaphylactoid reaction known as red man syndrome and anaphylaxis\n",
            "To check special characters :  5 - Fluorouracil cardiotoxicity complicating treatment of stage IIB cervical cancer - - case report\n",
            "To check special characters :  Carboplatin hypersensitivity presenting as coronary vasospasm - a case report\n",
            "To check special characters :  We describe a patient who developed NEH on three separate occasions provoked by two different chemotherapeutic agents - - cytarabine and mitoxantrone\n",
            "To check special characters :  Portal vein thrombosis in a patient with severe haemophilia A and F V G1691A mutation during continuous infusion of F VIII after intramural jejunal bleeding - - successful thrombolysis under heparin therapy\n",
            "To check special characters :  Actinomycin D associated hepatic veno - occlusive disease - - a report of 2 cases\n",
            "To check special characters :  Captopril - related and - induced? asthma\n",
            "To check special characters :  RESULTS: After 4 - to 14 - month period of therapy with the combination of indapamide 2.5 mg / day and fosinopril 10 mg / day in three patients and 6 - month period of monotherapy with indapamide 2.5 mg / day in one patient glucose levels of all patients increased and achieve criteria of diabetes diagnoses\n",
            "To check special characters :  Leishmania infantum leishmaniasis in corticosteroid - - treated patients\n",
            "To check special characters :  CONCLUSION: A 37 - year - old African - American man with G6PD deficiency developed hemolytic anemia hepatitis orthostatic hypotension and aseptic meningitis simultaneously after using trimethoprim - sulfamethoxazole\n",
            "Approximatif precision : 84.20%\n",
            "Approximatif recall : 84.70%\n",
            "Approximatif F1-score : 84.45%\n"
          ],
          "name": "stdout"
        }
      ]
    },
    {
      "cell_type": "markdown",
      "metadata": {
        "id": "ggkmo6SJY860"
      },
      "source": [
        "#Bi LSTM + CFR"
      ]
    },
    {
      "cell_type": "code",
      "metadata": {
        "id": "4UeDWL5dQKCL",
        "colab": {
          "base_uri": "https://localhost:8080/",
          "height": 1000
        },
        "outputId": "711af17d-2974-4711-92f9-d200272a7dd4"
      },
      "source": [
        "def make_model_BiLSTM_CRF(num_tag, embedding=40, hidden_size=50, optimizer='rmsprop'):\n",
        "    # Model architecture\n",
        "    input = Input(shape=(max_len,))\n",
        "    model = Embedding(input_dim=len(words) + 2, output_dim=embedding, input_length=max_len, mask_zero=False)(input)\n",
        "    model = Bidirectional(LSTM(units=hidden_size, return_sequences=True, recurrent_dropout=0.1))(model)\n",
        "    model = TimeDistributed(Dense(hidden_size, activation=\"relu\"))(model)\n",
        "    crf = CRF(num_tag + 1)  # CRF layer\n",
        "    out = crf(model)  # output\n",
        "\n",
        "    model = Model(input, out)\n",
        "    model.compile(optimizer=optimizer, loss=crf.loss_function, metrics=[crf.accuracy])\n",
        "\n",
        "    model.summary()\n",
        "    return model\n",
        "\n",
        "#np.random.seed(0)\n",
        "model_BiLSTM_CRF = make_model_BiLSTM_CRF(num_tag)\n",
        "\n",
        "#Early Stopping\n",
        "es = EarlyStopping(monitor='val_loss',mode='min', patience=3, verbose=1, restore_best_weights=True)\n",
        "mc = ModelCheckpoint('best_model.h5', monitor='val_accuracy', mode='max', \n",
        "                     save_weights_only=True, save_best_only=True, verbose=1)\n",
        "\n",
        "history_2 = model_BiLSTM_CRF.fit(X_train, np.array(y_train), batch_size=batch_size, epochs=epochs,\n",
        "                    validation_split=0.1, callbacks=[es, mc], class_weight=class_weights)\n",
        "\n",
        "# Evaluation\n",
        "y_pred = model_BiLSTM_CRF.predict(X_test)\n",
        "y_pred = np.argmax(y_pred, axis=-1)\n",
        "y_test_true = np.argmax(y_test, -1)\n",
        "\n",
        "# Convert the index to tag\n",
        "y_pred = [[idx2tag[i] for i in row] for row in y_pred]\n",
        "y_test_true = [[idx2tag[i] for i in row] for row in y_test_true]\n",
        "\n",
        "labels = list(idx2tag.values())\n",
        "labels.remove('PAD')\n",
        "#labels.remove('O')\n",
        "print(labels)\n",
        "\n",
        "report = flat_classification_report(y_pred=y_pred, y_true=y_test_true, labels=labels, digits=4)\n",
        "print(report)\n",
        "\n",
        "approximate_match_precision, approximate_match_recall, approximate_match_F1score = get_approx_metrics(\n",
        "    df, test_phrases, model_BiLSTM_CRF,X_test)\n",
        "print('Approximatif precision : {:2.2%}'.format(approximate_match_precision))\n",
        "print('Approximatif recall : {:2.2%}'.format(approximate_match_recall))\n",
        "print('Approximatif F1-score : {:2.2%}'.format(approximate_match_F1score))"
      ],
      "execution_count": null,
      "outputs": [
        {
          "output_type": "stream",
          "text": [
            "_________________________________________________________________\n",
            "Layer (type)                 Output Shape              Param #   \n",
            "=================================================================\n",
            "input_2 (InputLayer)         (None, 94)                0         \n",
            "_________________________________________________________________\n",
            "embedding_2 (Embedding)      (None, 94, 40)            346880    \n",
            "_________________________________________________________________\n",
            "bidirectional_2 (Bidirection (None, 94, 100)           36400     \n",
            "_________________________________________________________________\n",
            "time_distributed_2 (TimeDist (None, 94, 50)            5050      \n",
            "_________________________________________________________________\n",
            "crf_1 (CRF)                  (None, 94, 4)             228       \n",
            "=================================================================\n",
            "Total params: 388,558\n",
            "Trainable params: 388,558\n",
            "Non-trainable params: 0\n",
            "_________________________________________________________________\n",
            "Train on 2690 samples, validate on 299 samples\n",
            "Epoch 1/30\n",
            "2690/2690 [==============================] - 30s 11ms/step - loss: 0.1924 - crf_viterbi_accuracy: 0.9217 - val_loss: 0.0923 - val_crf_viterbi_accuracy: 0.9599\n",
            "Epoch 2/30\n",
            "2690/2690 [==============================] - 27s 10ms/step - loss: 0.0693 - crf_viterbi_accuracy: 0.9696 - val_loss: 0.0568 - val_crf_viterbi_accuracy: 0.9746\n",
            "Epoch 3/30\n",
            "2690/2690 [==============================] - 27s 10ms/step - loss: 0.0434 - crf_viterbi_accuracy: 0.9817 - val_loss: 0.0462 - val_crf_viterbi_accuracy: 0.9782\n",
            "Epoch 4/30\n",
            "2690/2690 [==============================] - 27s 10ms/step - loss: 0.0305 - crf_viterbi_accuracy: 0.9865 - val_loss: 0.0384 - val_crf_viterbi_accuracy: 0.9803\n",
            "Epoch 5/30\n",
            "2690/2690 [==============================] - 27s 10ms/step - loss: 0.0220 - crf_viterbi_accuracy: 0.9892 - val_loss: 0.0378 - val_crf_viterbi_accuracy: 0.9807\n",
            "Epoch 6/30\n",
            "2690/2690 [==============================] - 27s 10ms/step - loss: 0.0156 - crf_viterbi_accuracy: 0.9912 - val_loss: 0.0326 - val_crf_viterbi_accuracy: 0.9818\n",
            "Epoch 7/30\n",
            "2690/2690 [==============================] - 27s 10ms/step - loss: 0.0104 - crf_viterbi_accuracy: 0.9925 - val_loss: 0.0307 - val_crf_viterbi_accuracy: 0.9827\n",
            "Epoch 8/30\n",
            "2690/2690 [==============================] - 29s 11ms/step - loss: 0.0059 - crf_viterbi_accuracy: 0.9935 - val_loss: 0.0292 - val_crf_viterbi_accuracy: 0.9836\n",
            "Epoch 9/30\n",
            "2690/2690 [==============================] - 27s 10ms/step - loss: 0.0020 - crf_viterbi_accuracy: 0.9945 - val_loss: 0.0284 - val_crf_viterbi_accuracy: 0.9833\n",
            "Epoch 10/30\n",
            "2690/2690 [==============================] - 26s 10ms/step - loss: -0.0017 - crf_viterbi_accuracy: 0.9953 - val_loss: 0.0316 - val_crf_viterbi_accuracy: 0.9803\n",
            "Epoch 11/30\n",
            "2690/2690 [==============================] - 26s 10ms/step - loss: -0.0053 - crf_viterbi_accuracy: 0.9961 - val_loss: 0.0310 - val_crf_viterbi_accuracy: 0.9820\n",
            "Epoch 12/30\n",
            "2690/2690 [==============================] - 26s 10ms/step - loss: -0.0084 - crf_viterbi_accuracy: 0.9967 - val_loss: 0.0297 - val_crf_viterbi_accuracy: 0.9816\n",
            "Restoring model weights from the end of the best epoch\n",
            "Epoch 00012: early stopping\n",
            "['O', 'I_ADR', 'I_Drug']\n",
            "              precision    recall  f1-score   support\n",
            "\n",
            "           O     0.9381    0.9675    0.9526     18702\n",
            "       I_ADR     0.8433    0.7563    0.7975      3829\n",
            "      I_Drug     0.9130    0.8186    0.8632      1858\n",
            "\n",
            "   micro avg     0.9230    0.9230    0.9230     24389\n",
            "   macro avg     0.8981    0.8475    0.8711     24389\n",
            "weighted avg     0.9213    0.9230    0.9214     24389\n",
            "\n"
          ],
          "name": "stdout"
        },
        {
          "output_type": "error",
          "ename": "TypeError",
          "evalue": "ignored",
          "traceback": [
            "\u001b[0;31m---------------------------------------------------------------------------\u001b[0m",
            "\u001b[0;31mTypeError\u001b[0m                                 Traceback (most recent call last)",
            "\u001b[0;32m<ipython-input-29-1cbe5f0e508b>\u001b[0m in \u001b[0;36m<module>\u001b[0;34m()\u001b[0m\n\u001b[1;32m     42\u001b[0m \u001b[0mprint\u001b[0m\u001b[0;34m(\u001b[0m\u001b[0mreport\u001b[0m\u001b[0;34m)\u001b[0m\u001b[0;34m\u001b[0m\u001b[0;34m\u001b[0m\u001b[0m\n\u001b[1;32m     43\u001b[0m \u001b[0;34m\u001b[0m\u001b[0m\n\u001b[0;32m---> 44\u001b[0;31m \u001b[0mapproximate_match_precision\u001b[0m\u001b[0;34m,\u001b[0m \u001b[0mapproximate_match_recall\u001b[0m\u001b[0;34m,\u001b[0m \u001b[0mapproximate_match_F1score\u001b[0m \u001b[0;34m=\u001b[0m \u001b[0mget_approx_metrics\u001b[0m\u001b[0;34m(\u001b[0m\u001b[0mdf\u001b[0m\u001b[0;34m,\u001b[0m \u001b[0mtest_phrases\u001b[0m\u001b[0;34m,\u001b[0m \u001b[0mX_test\u001b[0m\u001b[0;34m)\u001b[0m\u001b[0;34m\u001b[0m\u001b[0;34m\u001b[0m\u001b[0m\n\u001b[0m\u001b[1;32m     45\u001b[0m \u001b[0mprint\u001b[0m\u001b[0;34m(\u001b[0m\u001b[0;34m'Approximatif precision : {:2.2%}'\u001b[0m\u001b[0;34m.\u001b[0m\u001b[0mformat\u001b[0m\u001b[0;34m(\u001b[0m\u001b[0mapproximate_match_precision\u001b[0m\u001b[0;34m)\u001b[0m\u001b[0;34m)\u001b[0m\u001b[0;34m\u001b[0m\u001b[0;34m\u001b[0m\u001b[0m\n\u001b[1;32m     46\u001b[0m \u001b[0mprint\u001b[0m\u001b[0;34m(\u001b[0m\u001b[0;34m'Approximatif recall : {:2.2%}'\u001b[0m\u001b[0;34m.\u001b[0m\u001b[0mformat\u001b[0m\u001b[0;34m(\u001b[0m\u001b[0mapproximate_match_recall\u001b[0m\u001b[0;34m)\u001b[0m\u001b[0;34m)\u001b[0m\u001b[0;34m\u001b[0m\u001b[0;34m\u001b[0m\u001b[0m\n",
            "\u001b[0;31mTypeError\u001b[0m: get_approx_metrics() missing 1 required positional argument: 'X_test'"
          ]
        }
      ]
    },
    {
      "cell_type": "code",
      "metadata": {
        "id": "riD_O24-futX",
        "colab": {
          "base_uri": "https://localhost:8080/",
          "height": 399
        },
        "outputId": "03c1e746-bc4c-49b3-ad30-0f3a4639a838"
      },
      "source": [
        "# At every execution model picks some random test sample from test set.\n",
        "i = np.random.randint(0,X_test.shape[0]) # choose a random number between 0 and len(X_test)\n",
        "p = model_BiLSTM_CRF.predict(np.array([X_test[i]]))\n",
        "p = np.argmax(p, axis=-1)\n",
        "true = np.argmax(y_test[i], -1)\n",
        "\n",
        "print(\"Sample number {} of {} (Test Set)\".format(i, X_test.shape[0]))\n",
        "\n",
        "# Visualization\n",
        "print(\"{:18}||{:6}||{}\".format(\"Word\", \"True\", \"Pred\"))\n",
        "print(30 * \"=\")\n",
        "for w, t, pred in zip(X_test[i], true, p[0]):\n",
        "    if w != 0:\n",
        "        print(\"{:18}: {:6} {}\".format(words[w-2], idx2tag[t], idx2tag[pred]))"
      ],
      "execution_count": null,
      "outputs": [
        {
          "output_type": "stream",
          "text": [
            "Sample number 153 of 1282 (Test Set)\n",
            "Word              ||True  ||Pred\n",
            "==============================\n",
            "Hydroxyurea       : I_Drug I_Drug\n",
            "associated        : O      O\n",
            "with              : O      O\n",
            "concomitant       : O      O\n",
            "occurrence        : O      O\n",
            "of                : O      O\n",
            "diffuse           : I_ADR  I_ADR\n",
            "longitudinal      : I_ADR  I_ADR\n",
            "melanonychia      : I_ADR  I_ADR\n",
            "and               : O      O\n",
            "multiple          : I_ADR  I_ADR\n",
            "squamous          : I_ADR  I_ADR\n",
            "cell              : I_ADR  I_ADR\n",
            "carcinomas        : I_ADR  I_ADR\n",
            "in                : O      O\n",
            "an                : O      O\n",
            "elderly           : O      O\n",
            "subject           : O      O\n"
          ],
          "name": "stdout"
        }
      ]
    },
    {
      "cell_type": "code",
      "metadata": {
        "id": "7P7rXo1loaRQ",
        "colab": {
          "base_uri": "https://localhost:8080/",
          "height": 126
        },
        "outputId": "8b5cccae-342b-4fb7-e6c7-fc7cea222ea4"
      },
      "source": [
        "test_phrases = [\" \".join([s[0] for s in sent]) for sent in test_sentences]\n",
        "test_phrases[0]\n",
        "\n",
        "df['I_ADR'] = df['I_ADR'].astype(str)\n",
        "df['I_Drug'] = df['I_Drug'].astype(str)\n",
        "df['I_ADR_split'] = list(map(lambda x: x.split(','), df['I_ADR']))\n",
        "df['I_Drug_split'] = list(map(lambda x: x.split(','), df['I_Drug']))\n",
        "\n",
        "count_correctly_predicted_IADR = 0 #ADRspans correctly identified\n",
        "count_actual_IADR = 0 #actual ADR spans\n",
        "count_predicted_IADR = 0 #ADRspans predicted\n",
        "\n",
        "\n",
        "for i in range(len(test_phrases)): #len(test_phrases)\n",
        "\n",
        "  #Find all rows in df_check_final \n",
        "  if len(df[df['sentence']==test_phrases[i]]) > 0:\n",
        "    #if df_final[df_final['sentence'].str.contains(test_phrases[i][0:60])]:\n",
        "    #print('To check special characters : ', test_phrases[i])\n",
        "    #else:\n",
        "      #df_n = df_final[df_final['sentence'].str.contains(test_phrases[i][0:60])].reset_index()\n",
        "\n",
        "  #else:\n",
        "    df_n = df[df['sentence']==test_phrases[i]].reset_index()\n",
        "\n",
        "    # Evaluation\n",
        "    y_pred = model_BiLSTM_CRF.predict(np.array([X_test[i]]))\n",
        "    y_pred = np.argmax(y_pred, axis=-1)\n",
        "    # Convert the index to tag\n",
        "    y_pred = [[idx2tag[i] for i in row] for row in y_pred]\n",
        "    #Remouve padding \n",
        "    y_pred = list(filter(lambda x: x!= 'PAD', y_pred[0]))\n",
        "    #print(y_pred)\n",
        "\n",
        "    df_n['prediction'] = y_pred\n",
        "\n",
        "    #Actuel I_ADR\n",
        "    n_actual_IADR = len(df_n.loc[1, 'I_ADR_split'])\n",
        "    count_actual_IADR += n_actual_IADR\n",
        "    \n",
        "    #Predicted I_ADR\n",
        "    indices_row_predited_ADR = [i for i, x in enumerate(df_n['prediction'].to_list()) if x == \"I_ADR\"]\n",
        "    #print(indices_row_predited_ADR)\n",
        "    if indices_row_predited_ADR:\n",
        "      check_continuity = ([(indices_row_predited_ADR[i+1] - indices_row_predited_ADR[i])\n",
        "                          for i in range(len(indices_row_predited_ADR)-1)])\n",
        "      #print(check_continuity)\n",
        "      #if check_continuity:\n",
        "      count_predicted_IADR += len([i for i in check_continuity if i > 1]) + 1 \n",
        "      #print(count_predicted_IADR)\n",
        "    \n",
        "    for j in range(len(df_n.loc[1, 'I_ADR_split'])):\n",
        "\n",
        "      groupe_words = df_n.loc[1, 'I_ADR_split'][j]\n",
        "      indexes = df_n.loc[1, 'new_index_IADR'][2*j:2*(j+1)]\n",
        "\n",
        "      df_groupe_words = df_n[(df_n['index']>=indexes[0]) & (df_n['index']<=indexes[1])]\n",
        "      n_pred = len(df_groupe_words[df_groupe_words['prediction']=='I_ADR'])\n",
        "      if n_pred > 0:\n",
        "        count_correctly_predicted_IADR += 1 #n_pred #n_predited_IADR\n",
        "\n",
        "approximate_match_precision = count_correctly_predicted_IADR/count_predicted_IADR\n",
        "approximate_match_recall = count_correctly_predicted_IADR/count_actual_IADR\n",
        "approximate_match_F1score = (2 * approximate_match_precision * approximate_match_recall /\n",
        "                             (approximate_match_precision + approximate_match_recall))\n",
        "\n",
        "print('Number of ADR actual : ', count_actual_IADR)\n",
        "print('Number of ADR predicted : ', count_predicted_IADR)\n",
        "print('Number of ADR correctly identified  : ',count_correctly_predicted_IADR)\n",
        "print('Approximatif precision : {:2.2%}'.format(approximate_match_precision))\n",
        "print('Approximatif recall : {:2.2%}'.format(approximate_match_recall))\n",
        "print('Approximatif F1-score : {:2.2%}'.format(approximate_match_F1score))\n"
      ],
      "execution_count": null,
      "outputs": [
        {
          "output_type": "stream",
          "text": [
            "Number of ADR actual :  1686\n",
            "Number of ADR predicted :  1517\n",
            "Number of ADR correctly identified  :  1415\n",
            "Approximatif precision : 93.28%\n",
            "Approximatif recall : 83.93%\n",
            "Approximatif F1-score : 88.35%\n"
          ],
          "name": "stdout"
        }
      ]
    },
    {
      "cell_type": "code",
      "metadata": {
        "id": "y_x89g9gQKFJ"
      },
      "source": [
        ""
      ],
      "execution_count": null,
      "outputs": []
    },
    {
      "cell_type": "code",
      "metadata": {
        "id": "WIcezEKBrW_r",
        "colab": {
          "base_uri": "https://localhost:8080/",
          "height": 310
        },
        "outputId": "4214b685-9a20-4c83-e464-0cbbaa01f0f0"
      },
      "source": [
        "approximate_match_precision, approximate_match_recall, approximate_match_F1score = get_approx_metrics(\n",
        "    df, test_phrases, model_BiLSTM_CRF, X_test)\n",
        "print('Approximatif precision : {:2.2%}'.format(approximate_match_precision))\n",
        "print('Approximatif recall : {:2.2%}'.format(approximate_match_recall))\n",
        "print('Approximatif F1-score : {:2.2%}'.format(approximate_match_F1score))"
      ],
      "execution_count": null,
      "outputs": [
        {
          "output_type": "stream",
          "text": [
            "To check special characters :  We conclude that neurosurgeons and neurologists should be aware of calcium antagonist - - related ileus in patients treated with nimodipine\n",
            "To check special characters :  In eight patients a mean decrease in serum Na of 8.25 / - 3.2 mEq / L was observed after a single 200 mg intravenous dose of lorcainide\n",
            "To check special characters :  Vancomycin is widely used against methicillin - resistant Staphylococcus aureus infections but it is associated with many adverse effects such as nephrotoxicity ototoxicity gastrointestinal disturbances blood disorders and two types of hypersensitivity reactions - an anaphylactoid reaction known as red man syndrome and anaphylaxis\n",
            "To check special characters :  5 - Fluorouracil cardiotoxicity complicating treatment of stage IIB cervical cancer - - case report\n",
            "To check special characters :  Carboplatin hypersensitivity presenting as coronary vasospasm - a case report\n",
            "To check special characters :  We describe a patient who developed NEH on three separate occasions provoked by two different chemotherapeutic agents - - cytarabine and mitoxantrone\n",
            "To check special characters :  Portal vein thrombosis in a patient with severe haemophilia A and F V G1691A mutation during continuous infusion of F VIII after intramural jejunal bleeding - - successful thrombolysis under heparin therapy\n",
            "To check special characters :  Actinomycin D associated hepatic veno - occlusive disease - - a report of 2 cases\n",
            "To check special characters :  Captopril - related and - induced? asthma\n",
            "To check special characters :  RESULTS: After 4 - to 14 - month period of therapy with the combination of indapamide 2.5 mg / day and fosinopril 10 mg / day in three patients and 6 - month period of monotherapy with indapamide 2.5 mg / day in one patient glucose levels of all patients increased and achieve criteria of diabetes diagnoses\n",
            "To check special characters :  Leishmania infantum leishmaniasis in corticosteroid - - treated patients\n",
            "To check special characters :  CONCLUSION: A 37 - year - old African - American man with G6PD deficiency developed hemolytic anemia hepatitis orthostatic hypotension and aseptic meningitis simultaneously after using trimethoprim - sulfamethoxazole\n",
            "Approximatif precision : 93.28%\n",
            "Approximatif recall : 83.93%\n",
            "Approximatif F1-score : 88.35%\n"
          ],
          "name": "stdout"
        }
      ]
    },
    {
      "cell_type": "code",
      "metadata": {
        "id": "RKNRDxKVrXVB"
      },
      "source": [
        ""
      ],
      "execution_count": null,
      "outputs": []
    },
    {
      "cell_type": "code",
      "metadata": {
        "id": "AGFsiEnqCJwU"
      },
      "source": [
        "model.save('Model_BiLSTM_CFR_Emb40_Class_weight_87')"
      ],
      "execution_count": null,
      "outputs": []
    }
  ]
}