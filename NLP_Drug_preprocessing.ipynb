{
  "nbformat": 4,
  "nbformat_minor": 0,
  "metadata": {
    "colab": {
      "name": "NLP_Drug_preprocessing.ipynb",
      "provenance": [],
      "collapsed_sections": []
    },
    "kernelspec": {
      "name": "python3",
      "display_name": "Python 3"
    }
  },
  "cells": [
    {
      "cell_type": "code",
      "metadata": {
        "id": "C6aIu51etL7J",
        "colab": {
          "base_uri": "https://localhost:8080/"
        },
        "outputId": "da03bcf7-3516-435e-97a1-9f85592e4c13"
      },
      "source": [
        "import numpy as np\n",
        "import pandas as pd\n",
        "import matplotlib.pyplot as plt\n",
        "import seaborn as sns\n",
        "from pathlib import Path\n",
        "import os\n",
        "import glob\n",
        "from tqdm import tqdm\n",
        "\n",
        "# Importing drive method from colab for accessing google drive\n",
        "from google.colab import drive\n",
        "\n",
        "import re\n",
        "import string\n",
        "\n",
        "import spacy\n",
        "import spacy.cli\n",
        "from spacy.lang.en.stop_words import STOP_WORDS\n",
        "\n",
        "import nltk\n",
        "nltk.download('punkt') \n",
        "\n",
        "import textblob\n",
        "from nltk.corpus import stopwords\n",
        "from nltk.stem import WordNetLemmatizer\n",
        "from nltk.util import ngrams\n",
        "\n",
        "from wordcloud import WordCloud\n",
        "from collections import defaultdict\n",
        "from collections import  Counter\n",
        "from sklearn.feature_extraction.text import CountVectorizer\n"
      ],
      "execution_count": null,
      "outputs": [
        {
          "output_type": "stream",
          "text": [
            "[nltk_data] Downloading package punkt to /root/nltk_data...\n",
            "[nltk_data]   Package punkt is already up-to-date!\n"
          ],
          "name": "stdout"
        }
      ]
    },
    {
      "cell_type": "code",
      "metadata": {
        "id": "wDZzllN82Equ",
        "colab": {
          "base_uri": "https://localhost:8080/"
        },
        "outputId": "c6a432ce-f7aa-4e21-ac1d-0e1b8c184e31"
      },
      "source": [
        "# Mounting drive\n",
        "# This will require authentication : Follow the steps as guided\n",
        "drive.mount('/content/drive')"
      ],
      "execution_count": null,
      "outputs": [
        {
          "output_type": "stream",
          "text": [
            "Drive already mounted at /content/drive; to attempt to forcibly remount, call drive.mount(\"/content/drive\", force_remount=True).\n"
          ],
          "name": "stdout"
        }
      ]
    },
    {
      "cell_type": "code",
      "metadata": {
        "id": "BGMvhFul2aGp",
        "colab": {
          "base_uri": "https://localhost:8080/"
        },
        "outputId": "4cb8498b-a797-4d32-8387-7ec292702458"
      },
      "source": [
        "# Viewing the data in the folder present from the drive\n",
        "!ls \"/content/drive/My Drive/ML_projects/NLP_DRUG/\""
      ],
      "execution_count": null,
      "outputs": [
        {
          "output_type": "stream",
          "text": [
            "DATA_NEG0.csv\t   DATA_NEG5000.csv  DATA_POS1000.csv\n",
            "DATA_NEG10000.csv  DATA_NEG6000.csv  encoder.pickle\n",
            "DATA_NEG1000.csv   DATA_NEG7000.csv  NLP_classification_sentence\n",
            "DATA_NEG2000.csv   DATA_NEG8000.csv  NLP_Drug_model.ipynb\n",
            "DATA_NEG3000.csv   DATA_NEG9000.csv  NLP_Drug_NER_CRF.pickle\n",
            "DATA_NEG4000.csv   DATA_POS0.csv     tokenizer.pickle\n"
          ],
          "name": "stdout"
        }
      ]
    },
    {
      "cell_type": "code",
      "metadata": {
        "id": "IK7rySbG2z1p",
        "colab": {
          "base_uri": "https://localhost:8080/",
          "height": 205
        },
        "outputId": "62b5121e-f566-461f-c88c-4ae394778309"
      },
      "source": [
        "# getting list of \n",
        "data_files = glob.glob(\"/content/drive/My Drive/ML_projects/NLP_DRUG/*.csv\")\n",
        "#data_files[::-1]\n",
        "df = pd.concat((pd.read_csv(f) for f in data_files[::-1]))\n",
        "df = df.drop(df.columns[[0]], axis=1)\n",
        "df.head()"
      ],
      "execution_count": null,
      "outputs": [
        {
          "output_type": "execute_result",
          "data": {
            "text/html": [
              "<div>\n",
              "<style scoped>\n",
              "    .dataframe tbody tr th:only-of-type {\n",
              "        vertical-align: middle;\n",
              "    }\n",
              "\n",
              "    .dataframe tbody tr th {\n",
              "        vertical-align: top;\n",
              "    }\n",
              "\n",
              "    .dataframe thead th {\n",
              "        text-align: right;\n",
              "    }\n",
              "</style>\n",
              "<table border=\"1\" class=\"dataframe\">\n",
              "  <thead>\n",
              "    <tr style=\"text-align: right;\">\n",
              "      <th></th>\n",
              "      <th>articleID</th>\n",
              "      <th>publication_date</th>\n",
              "      <th>title</th>\n",
              "      <th>abstract</th>\n",
              "    </tr>\n",
              "  </thead>\n",
              "  <tbody>\n",
              "    <tr>\n",
              "      <th>0</th>\n",
              "      <td>2871696</td>\n",
              "      <td>1986-02-01</td>\n",
              "      <td>Long-term neuroleptic therapy in chronic anore...</td>\n",
              "      <td>A patient is described with a 25-year history ...</td>\n",
              "    </tr>\n",
              "    <tr>\n",
              "      <th>1</th>\n",
              "      <td>7560456</td>\n",
              "      <td>1995-08-01</td>\n",
              "      <td>Bilateral inguinal scrofuloderma during steroi...</td>\n",
              "      <td>This report described a case of scrofuloderma ...</td>\n",
              "    </tr>\n",
              "    <tr>\n",
              "      <th>2</th>\n",
              "      <td>16053946</td>\n",
              "      <td>2005-08-02</td>\n",
              "      <td>Report of a patient with severe transfusion-re...</td>\n",
              "      <td>To report a patient with a large gastrointesti...</td>\n",
              "    </tr>\n",
              "    <tr>\n",
              "      <th>3</th>\n",
              "      <td>8667442</td>\n",
              "      <td>1996-05-01</td>\n",
              "      <td>Milk-alkali syndrome induced by 1,25(OH)2D in ...</td>\n",
              "      <td>Milk-alkali syndrome was first described 70 ye...</td>\n",
              "    </tr>\n",
              "    <tr>\n",
              "      <th>4</th>\n",
              "      <td>19822103</td>\n",
              "      <td>2009-10-14</td>\n",
              "      <td>Beneficial effects of telmisartan in an HIV+ d...</td>\n",
              "      <td>In HIV-infected patients with metabolic disord...</td>\n",
              "    </tr>\n",
              "  </tbody>\n",
              "</table>\n",
              "</div>"
            ],
            "text/plain": [
              "  articleID  ...                                           abstract\n",
              "0   2871696  ...  A patient is described with a 25-year history ...\n",
              "1   7560456  ...  This report described a case of scrofuloderma ...\n",
              "2  16053946  ...  To report a patient with a large gastrointesti...\n",
              "3   8667442  ...  Milk-alkali syndrome was first described 70 ye...\n",
              "4  19822103  ...  In HIV-infected patients with metabolic disord...\n",
              "\n",
              "[5 rows x 4 columns]"
            ]
          },
          "metadata": {
            "tags": []
          },
          "execution_count": 45
        }
      ]
    },
    {
      "cell_type": "code",
      "metadata": {
        "id": "HJMQkuL5Vpf7",
        "colab": {
          "base_uri": "https://localhost:8080/"
        },
        "outputId": "493771f2-e2b0-41f3-809e-972cd83e96ea"
      },
      "source": [
        "#check articleID : if len(articleID)=2, it means articleID = []\n",
        "df['check_ID'] = df['articleID'].apply(lambda x: len(str(x)))\n",
        "\n",
        "print('drop empty rows')\n",
        "print(min(df['check_ID']))\n",
        "print(df[df['check_ID']==min(df['check_ID'])])\n",
        "\n",
        "df = df.drop(df[df['check_ID']==2].index)\n",
        "\n",
        "print('check if dataframe drops the line with article_ID = []')\n",
        "print(min(df['check_ID']))\n",
        "df.drop(['check_ID'], axis=1, inplace=True)"
      ],
      "execution_count": null,
      "outputs": [
        {
          "output_type": "stream",
          "text": [
            "drop empty rows\n",
            "2\n",
            "    articleID publication_date title abstract  check_ID\n",
            "556        []               []    []       []         2\n",
            "936        []               []    []       []         2\n",
            "check if dataframe drops the line with article_ID = []\n",
            "5\n"
          ],
          "name": "stdout"
        }
      ]
    },
    {
      "cell_type": "code",
      "metadata": {
        "id": "IDz7t7y3O6XW",
        "colab": {
          "base_uri": "https://localhost:8080/",
          "height": 205
        },
        "outputId": "f7c18b7e-b453-4fb5-9a6d-41f15915126f"
      },
      "source": [
        "df = df.drop_duplicates()\n",
        "\n",
        "df = df[~df.title.duplicated(keep='first')]\n",
        "df = df.reset_index().drop(['index'], axis=1)\n",
        "df.head()"
      ],
      "execution_count": null,
      "outputs": [
        {
          "output_type": "execute_result",
          "data": {
            "text/html": [
              "<div>\n",
              "<style scoped>\n",
              "    .dataframe tbody tr th:only-of-type {\n",
              "        vertical-align: middle;\n",
              "    }\n",
              "\n",
              "    .dataframe tbody tr th {\n",
              "        vertical-align: top;\n",
              "    }\n",
              "\n",
              "    .dataframe thead th {\n",
              "        text-align: right;\n",
              "    }\n",
              "</style>\n",
              "<table border=\"1\" class=\"dataframe\">\n",
              "  <thead>\n",
              "    <tr style=\"text-align: right;\">\n",
              "      <th></th>\n",
              "      <th>articleID</th>\n",
              "      <th>publication_date</th>\n",
              "      <th>title</th>\n",
              "      <th>abstract</th>\n",
              "    </tr>\n",
              "  </thead>\n",
              "  <tbody>\n",
              "    <tr>\n",
              "      <th>0</th>\n",
              "      <td>2871696</td>\n",
              "      <td>1986-02-01</td>\n",
              "      <td>Long-term neuroleptic therapy in chronic anore...</td>\n",
              "      <td>A patient is described with a 25-year history ...</td>\n",
              "    </tr>\n",
              "    <tr>\n",
              "      <th>1</th>\n",
              "      <td>7560456</td>\n",
              "      <td>1995-08-01</td>\n",
              "      <td>Bilateral inguinal scrofuloderma during steroi...</td>\n",
              "      <td>This report described a case of scrofuloderma ...</td>\n",
              "    </tr>\n",
              "    <tr>\n",
              "      <th>2</th>\n",
              "      <td>16053946</td>\n",
              "      <td>2005-08-02</td>\n",
              "      <td>Report of a patient with severe transfusion-re...</td>\n",
              "      <td>To report a patient with a large gastrointesti...</td>\n",
              "    </tr>\n",
              "    <tr>\n",
              "      <th>3</th>\n",
              "      <td>8667442</td>\n",
              "      <td>1996-05-01</td>\n",
              "      <td>Milk-alkali syndrome induced by 1,25(OH)2D in ...</td>\n",
              "      <td>Milk-alkali syndrome was first described 70 ye...</td>\n",
              "    </tr>\n",
              "    <tr>\n",
              "      <th>4</th>\n",
              "      <td>19822103</td>\n",
              "      <td>2009-10-14</td>\n",
              "      <td>Beneficial effects of telmisartan in an HIV+ d...</td>\n",
              "      <td>In HIV-infected patients with metabolic disord...</td>\n",
              "    </tr>\n",
              "  </tbody>\n",
              "</table>\n",
              "</div>"
            ],
            "text/plain": [
              "  articleID  ...                                           abstract\n",
              "0   2871696  ...  A patient is described with a 25-year history ...\n",
              "1   7560456  ...  This report described a case of scrofuloderma ...\n",
              "2  16053946  ...  To report a patient with a large gastrointesti...\n",
              "3   8667442  ...  Milk-alkali syndrome was first described 70 ye...\n",
              "4  19822103  ...  In HIV-infected patients with metabolic disord...\n",
              "\n",
              "[5 rows x 4 columns]"
            ]
          },
          "metadata": {
            "tags": []
          },
          "execution_count": 47
        }
      ]
    },
    {
      "cell_type": "code",
      "metadata": {
        "id": "zrQPrO1ISCxm",
        "colab": {
          "base_uri": "https://localhost:8080/"
        },
        "outputId": "259e5e91-3a2d-4725-cbb1-2c0513d43e85"
      },
      "source": [
        "#check\n",
        "df.shape\n",
        "#-np.sort(-df['articleID'].value_counts())\n",
        "#-np.sort(-df['title'].value_counts())\n",
        "#-np.sort(-df['abstract'].value_counts())"
      ],
      "execution_count": null,
      "outputs": [
        {
          "output_type": "execute_result",
          "data": {
            "text/plain": [
              "(2343, 4)"
            ]
          },
          "metadata": {
            "tags": []
          },
          "execution_count": 48
        }
      ]
    },
    {
      "cell_type": "code",
      "metadata": {
        "id": "QN3NRNPVLI3L",
        "colab": {
          "base_uri": "https://localhost:8080/"
        },
        "outputId": "5c0ec9bc-8bc2-4aec-d33b-ff24c8df9363"
      },
      "source": [
        "df.isnull().sum()"
      ],
      "execution_count": null,
      "outputs": [
        {
          "output_type": "execute_result",
          "data": {
            "text/plain": [
              "articleID           0\n",
              "publication_date    0\n",
              "title               0\n",
              "abstract            0\n",
              "dtype: int64"
            ]
          },
          "metadata": {
            "tags": []
          },
          "execution_count": 49
        }
      ]
    },
    {
      "cell_type": "markdown",
      "metadata": {
        "id": "K9LIZMt0jUWe"
      },
      "source": [
        "### Tag label for article title"
      ]
    },
    {
      "cell_type": "markdown",
      "metadata": {
        "id": "eFEZf7KgTXr6"
      },
      "source": [
        "## Separate abstract to sentences"
      ]
    },
    {
      "cell_type": "code",
      "metadata": {
        "id": "ZzzZmr4wz1of"
      },
      "source": [
        "def remouve_special_character(text):\n",
        "  text = re.sub(r\"[-()\\\"#/@;:<>{}`+=~|!?,]\", \" \", text)\n",
        "  return text"
      ],
      "execution_count": null,
      "outputs": []
    },
    {
      "cell_type": "code",
      "metadata": {
        "id": "2C89A9mHz9zN",
        "colab": {
          "base_uri": "https://localhost:8080/",
          "height": 205
        },
        "outputId": "490c3cd8-36c4-4778-cffb-3dc127c66279"
      },
      "source": [
        "df['cleaned_abtract'] = df['abstract'].apply(lambda x: remouve_special_character(x))\n",
        "df.head()"
      ],
      "execution_count": null,
      "outputs": [
        {
          "output_type": "execute_result",
          "data": {
            "text/html": [
              "<div>\n",
              "<style scoped>\n",
              "    .dataframe tbody tr th:only-of-type {\n",
              "        vertical-align: middle;\n",
              "    }\n",
              "\n",
              "    .dataframe tbody tr th {\n",
              "        vertical-align: top;\n",
              "    }\n",
              "\n",
              "    .dataframe thead th {\n",
              "        text-align: right;\n",
              "    }\n",
              "</style>\n",
              "<table border=\"1\" class=\"dataframe\">\n",
              "  <thead>\n",
              "    <tr style=\"text-align: right;\">\n",
              "      <th></th>\n",
              "      <th>articleID</th>\n",
              "      <th>publication_date</th>\n",
              "      <th>title</th>\n",
              "      <th>abstract</th>\n",
              "      <th>cleaned_abtract</th>\n",
              "    </tr>\n",
              "  </thead>\n",
              "  <tbody>\n",
              "    <tr>\n",
              "      <th>0</th>\n",
              "      <td>2871696</td>\n",
              "      <td>1986-02-01</td>\n",
              "      <td>Long-term neuroleptic therapy in chronic anore...</td>\n",
              "      <td>A patient is described with a 25-year history ...</td>\n",
              "      <td>A patient is described with a 25 year history ...</td>\n",
              "    </tr>\n",
              "    <tr>\n",
              "      <th>1</th>\n",
              "      <td>7560456</td>\n",
              "      <td>1995-08-01</td>\n",
              "      <td>Bilateral inguinal scrofuloderma during steroi...</td>\n",
              "      <td>This report described a case of scrofuloderma ...</td>\n",
              "      <td>This report described a case of scrofuloderma ...</td>\n",
              "    </tr>\n",
              "    <tr>\n",
              "      <th>2</th>\n",
              "      <td>16053946</td>\n",
              "      <td>2005-08-02</td>\n",
              "      <td>Report of a patient with severe transfusion-re...</td>\n",
              "      <td>To report a patient with a large gastrointesti...</td>\n",
              "      <td>To report a patient with a large gastrointesti...</td>\n",
              "    </tr>\n",
              "    <tr>\n",
              "      <th>3</th>\n",
              "      <td>8667442</td>\n",
              "      <td>1996-05-01</td>\n",
              "      <td>Milk-alkali syndrome induced by 1,25(OH)2D in ...</td>\n",
              "      <td>Milk-alkali syndrome was first described 70 ye...</td>\n",
              "      <td>Milk alkali syndrome was first described 70 ye...</td>\n",
              "    </tr>\n",
              "    <tr>\n",
              "      <th>4</th>\n",
              "      <td>19822103</td>\n",
              "      <td>2009-10-14</td>\n",
              "      <td>Beneficial effects of telmisartan in an HIV+ d...</td>\n",
              "      <td>In HIV-infected patients with metabolic disord...</td>\n",
              "      <td>In HIV infected patients with metabolic disord...</td>\n",
              "    </tr>\n",
              "  </tbody>\n",
              "</table>\n",
              "</div>"
            ],
            "text/plain": [
              "  articleID  ...                                    cleaned_abtract\n",
              "0   2871696  ...  A patient is described with a 25 year history ...\n",
              "1   7560456  ...  This report described a case of scrofuloderma ...\n",
              "2  16053946  ...  To report a patient with a large gastrointesti...\n",
              "3   8667442  ...  Milk alkali syndrome was first described 70 ye...\n",
              "4  19822103  ...  In HIV infected patients with metabolic disord...\n",
              "\n",
              "[5 rows x 5 columns]"
            ]
          },
          "metadata": {
            "tags": []
          },
          "execution_count": 51
        }
      ]
    },
    {
      "cell_type": "code",
      "metadata": {
        "id": "IP5d4LTmTcIp",
        "colab": {
          "base_uri": "https://localhost:8080/",
          "height": 292
        },
        "outputId": "05a39777-4fc5-40ee-8523-e292e859e375"
      },
      "source": [
        "def seperate_into_sentence(text):\n",
        "  return nltk.sent_tokenize(text)\n",
        "\n",
        "df['sentences'] = df['cleaned_abtract'].map(seperate_into_sentence)\n",
        "df.head()"
      ],
      "execution_count": null,
      "outputs": [
        {
          "output_type": "execute_result",
          "data": {
            "text/html": [
              "<div>\n",
              "<style scoped>\n",
              "    .dataframe tbody tr th:only-of-type {\n",
              "        vertical-align: middle;\n",
              "    }\n",
              "\n",
              "    .dataframe tbody tr th {\n",
              "        vertical-align: top;\n",
              "    }\n",
              "\n",
              "    .dataframe thead th {\n",
              "        text-align: right;\n",
              "    }\n",
              "</style>\n",
              "<table border=\"1\" class=\"dataframe\">\n",
              "  <thead>\n",
              "    <tr style=\"text-align: right;\">\n",
              "      <th></th>\n",
              "      <th>articleID</th>\n",
              "      <th>publication_date</th>\n",
              "      <th>title</th>\n",
              "      <th>abstract</th>\n",
              "      <th>cleaned_abtract</th>\n",
              "      <th>sentences</th>\n",
              "    </tr>\n",
              "  </thead>\n",
              "  <tbody>\n",
              "    <tr>\n",
              "      <th>0</th>\n",
              "      <td>2871696</td>\n",
              "      <td>1986-02-01</td>\n",
              "      <td>Long-term neuroleptic therapy in chronic anore...</td>\n",
              "      <td>A patient is described with a 25-year history ...</td>\n",
              "      <td>A patient is described with a 25 year history ...</td>\n",
              "      <td>[A patient is described with a 25 year history...</td>\n",
              "    </tr>\n",
              "    <tr>\n",
              "      <th>1</th>\n",
              "      <td>7560456</td>\n",
              "      <td>1995-08-01</td>\n",
              "      <td>Bilateral inguinal scrofuloderma during steroi...</td>\n",
              "      <td>This report described a case of scrofuloderma ...</td>\n",
              "      <td>This report described a case of scrofuloderma ...</td>\n",
              "      <td>[This report described a case of scrofuloderma...</td>\n",
              "    </tr>\n",
              "    <tr>\n",
              "      <th>2</th>\n",
              "      <td>16053946</td>\n",
              "      <td>2005-08-02</td>\n",
              "      <td>Report of a patient with severe transfusion-re...</td>\n",
              "      <td>To report a patient with a large gastrointesti...</td>\n",
              "      <td>To report a patient with a large gastrointesti...</td>\n",
              "      <td>[To report a patient with a large gastrointest...</td>\n",
              "    </tr>\n",
              "    <tr>\n",
              "      <th>3</th>\n",
              "      <td>8667442</td>\n",
              "      <td>1996-05-01</td>\n",
              "      <td>Milk-alkali syndrome induced by 1,25(OH)2D in ...</td>\n",
              "      <td>Milk-alkali syndrome was first described 70 ye...</td>\n",
              "      <td>Milk alkali syndrome was first described 70 ye...</td>\n",
              "      <td>[Milk alkali syndrome was first described 70 y...</td>\n",
              "    </tr>\n",
              "    <tr>\n",
              "      <th>4</th>\n",
              "      <td>19822103</td>\n",
              "      <td>2009-10-14</td>\n",
              "      <td>Beneficial effects of telmisartan in an HIV+ d...</td>\n",
              "      <td>In HIV-infected patients with metabolic disord...</td>\n",
              "      <td>In HIV infected patients with metabolic disord...</td>\n",
              "      <td>[In HIV infected patients with metabolic disor...</td>\n",
              "    </tr>\n",
              "  </tbody>\n",
              "</table>\n",
              "</div>"
            ],
            "text/plain": [
              "  articleID  ...                                          sentences\n",
              "0   2871696  ...  [A patient is described with a 25 year history...\n",
              "1   7560456  ...  [This report described a case of scrofuloderma...\n",
              "2  16053946  ...  [To report a patient with a large gastrointest...\n",
              "3   8667442  ...  [Milk alkali syndrome was first described 70 y...\n",
              "4  19822103  ...  [In HIV infected patients with metabolic disor...\n",
              "\n",
              "[5 rows x 6 columns]"
            ]
          },
          "metadata": {
            "tags": []
          },
          "execution_count": 52
        }
      ]
    },
    {
      "cell_type": "code",
      "metadata": {
        "id": "FpdqofN4w5CV",
        "colab": {
          "base_uri": "https://localhost:8080/",
          "height": 126
        },
        "outputId": "91459844-b5e6-483f-cc1b-0eab4e68574f"
      },
      "source": [
        "df.loc[15,'abstract']"
      ],
      "execution_count": null,
      "outputs": [
        {
          "output_type": "execute_result",
          "data": {
            "application/vnd.google.colaboratory.intrinsic+json": {
              "type": "string"
            },
            "text/plain": [
              "'We report two cases of lost seizure control associated with the generic substitution of carbamazepine, review pertinent literature, and discuss the impact of this substitution on patient care.\\r\\nCase studies, abstracts, and research publications identified in MEDLINE and bibliographic review.\\r\\nOne author reviewed cases supplied by the other authors and abstracted information from published literature sources.\\r\\nThe first case describes a 15-year-old boy who received valproic acid and carbamazepine for partial seizures. A change in government program policies caused him to receive generic carbamazepine. This resulted in loss of seizure control and a decrease in his serum carbamazepine concentration from 12.4 to 6.7 micrograms/mL. When his carbamazepine concentration returned to previous levels, seizure control was not reestablished. A second case involves a 21-year-old woman who substituted generic carbamazepine because of financial problems. After being seizure-free for at least five years on phenobarbital and carbamazepine, she experienced seizures related to the product change. Her carbamazepine concentration decreased from 11.8 to 8.5 micrograms/mL; she also became pregnant at that time. Seizure control was not reestablished. At least three other studies do not support these observations, but the tightly controlled conditions in these studies may not have simulated actual clinical practice.\\r\\nWhen generic substitution of carbamazepine is required, serum concentrations should be carefully monitored. The extra care required may negate the financial advantages of the substitution.'"
            ]
          },
          "metadata": {
            "tags": []
          },
          "execution_count": 53
        }
      ]
    },
    {
      "cell_type": "code",
      "metadata": {
        "id": "aoJP4rXDcwqM",
        "colab": {
          "base_uri": "https://localhost:8080/"
        },
        "outputId": "576be6d3-34d9-49dd-929b-cf15dd39e959"
      },
      "source": [
        "df.loc[15,'sentences']"
      ],
      "execution_count": null,
      "outputs": [
        {
          "output_type": "execute_result",
          "data": {
            "text/plain": [
              "['We report two cases of lost seizure control associated with the generic substitution of carbamazepine  review pertinent literature  and discuss the impact of this substitution on patient care.',\n",
              " 'Case studies  abstracts  and research publications identified in MEDLINE and bibliographic review.',\n",
              " 'One author reviewed cases supplied by the other authors and abstracted information from published literature sources.',\n",
              " 'The first case describes a 15 year old boy who received valproic acid and carbamazepine for partial seizures.',\n",
              " 'A change in government program policies caused him to receive generic carbamazepine.',\n",
              " 'This resulted in loss of seizure control and a decrease in his serum carbamazepine concentration from 12.4 to 6.7 micrograms mL.',\n",
              " 'When his carbamazepine concentration returned to previous levels  seizure control was not reestablished.',\n",
              " 'A second case involves a 21 year old woman who substituted generic carbamazepine because of financial problems.',\n",
              " 'After being seizure free for at least five years on phenobarbital and carbamazepine  she experienced seizures related to the product change.',\n",
              " 'Her carbamazepine concentration decreased from 11.8 to 8.5 micrograms mL  she also became pregnant at that time.',\n",
              " 'Seizure control was not reestablished.',\n",
              " 'At least three other studies do not support these observations  but the tightly controlled conditions in these studies may not have simulated actual clinical practice.',\n",
              " 'When generic substitution of carbamazepine is required  serum concentrations should be carefully monitored.',\n",
              " 'The extra care required may negate the financial advantages of the substitution.']"
            ]
          },
          "metadata": {
            "tags": []
          },
          "execution_count": 54
        }
      ]
    },
    {
      "cell_type": "code",
      "metadata": {
        "id": "AS6KNVdMzlt0"
      },
      "source": [
        "df1 = df[['articleID', 'publication_date', 'title']]\n",
        "df1.columns = ['articleID', 'publication_date', 'text']"
      ],
      "execution_count": null,
      "outputs": []
    },
    {
      "cell_type": "code",
      "metadata": {
        "id": "Yy1vFOTZFiFu",
        "colab": {
          "base_uri": "https://localhost:8080/",
          "height": 205
        },
        "outputId": "ad2b9504-b212-4ade-935c-c9632911cf5f"
      },
      "source": [
        "df2 = df[['articleID', 'publication_date', 'sentences']]\n",
        "df2.columns = ['articleID', 'publication_date', 'text']\n",
        "df2 = df2.explode('text')\n",
        "df2.head()"
      ],
      "execution_count": null,
      "outputs": [
        {
          "output_type": "execute_result",
          "data": {
            "text/html": [
              "<div>\n",
              "<style scoped>\n",
              "    .dataframe tbody tr th:only-of-type {\n",
              "        vertical-align: middle;\n",
              "    }\n",
              "\n",
              "    .dataframe tbody tr th {\n",
              "        vertical-align: top;\n",
              "    }\n",
              "\n",
              "    .dataframe thead th {\n",
              "        text-align: right;\n",
              "    }\n",
              "</style>\n",
              "<table border=\"1\" class=\"dataframe\">\n",
              "  <thead>\n",
              "    <tr style=\"text-align: right;\">\n",
              "      <th></th>\n",
              "      <th>articleID</th>\n",
              "      <th>publication_date</th>\n",
              "      <th>text</th>\n",
              "    </tr>\n",
              "  </thead>\n",
              "  <tbody>\n",
              "    <tr>\n",
              "      <th>0</th>\n",
              "      <td>2871696</td>\n",
              "      <td>1986-02-01</td>\n",
              "      <td>A patient is described with a 25 year history ...</td>\n",
              "    </tr>\n",
              "    <tr>\n",
              "      <th>0</th>\n",
              "      <td>2871696</td>\n",
              "      <td>1986-02-01</td>\n",
              "      <td>Repeated relapse occurred despite a variety of...</td>\n",
              "    </tr>\n",
              "    <tr>\n",
              "      <th>0</th>\n",
              "      <td>2871696</td>\n",
              "      <td>1986-02-01</td>\n",
              "      <td>On this regime  together with supportive psych...</td>\n",
              "    </tr>\n",
              "    <tr>\n",
              "      <th>0</th>\n",
              "      <td>2871696</td>\n",
              "      <td>1986-02-01</td>\n",
              "      <td>Multiple attempts to withdraw the medication r...</td>\n",
              "    </tr>\n",
              "    <tr>\n",
              "      <th>0</th>\n",
              "      <td>2871696</td>\n",
              "      <td>1986-02-01</td>\n",
              "      <td>Recently  the patient has exhibited signs of t...</td>\n",
              "    </tr>\n",
              "  </tbody>\n",
              "</table>\n",
              "</div>"
            ],
            "text/plain": [
              "  articleID publication_date                                               text\n",
              "0   2871696       1986-02-01  A patient is described with a 25 year history ...\n",
              "0   2871696       1986-02-01  Repeated relapse occurred despite a variety of...\n",
              "0   2871696       1986-02-01  On this regime  together with supportive psych...\n",
              "0   2871696       1986-02-01  Multiple attempts to withdraw the medication r...\n",
              "0   2871696       1986-02-01  Recently  the patient has exhibited signs of t..."
            ]
          },
          "metadata": {
            "tags": []
          },
          "execution_count": 56
        }
      ]
    },
    {
      "cell_type": "code",
      "metadata": {
        "id": "DE-SPobOFSyk",
        "colab": {
          "base_uri": "https://localhost:8080/"
        },
        "outputId": "be47d93c-cf21-4637-80d0-6b653a4efd8a"
      },
      "source": [
        "df_final = df1.append(df2, ignore_index=True)\n",
        "df_final.shape"
      ],
      "execution_count": null,
      "outputs": [
        {
          "output_type": "execute_result",
          "data": {
            "text/plain": [
              "(16834, 3)"
            ]
          },
          "metadata": {
            "tags": []
          },
          "execution_count": 57
        }
      ]
    },
    {
      "cell_type": "code",
      "metadata": {
        "id": "ZpskhCxAEOQ1"
      },
      "source": [
        "#df_final['articleID'] = df_final['articleID'].astype({\"articleID\": int})\n",
        "df_final[df_final['articleID']==15529178]"
      ],
      "execution_count": null,
      "outputs": []
    },
    {
      "cell_type": "code",
      "metadata": {
        "id": "hG3ewXOIGU61"
      },
      "source": [
        "df_final = (df_final.sort_values(['articleID']).reset_index().drop(['index'], axis=1))\n",
        "\n",
        "#compute length of text\n",
        "df_final['len_text'] = df_final['text'].apply(lambda x: len(str(x).split()))\n",
        "df_final.head()"
      ],
      "execution_count": null,
      "outputs": []
    },
    {
      "cell_type": "code",
      "metadata": {
        "id": "qA1wQa_qMKix"
      },
      "source": [
        "np.sort(df_final['len_text'].value_counts())"
      ],
      "execution_count": null,
      "outputs": []
    },
    {
      "cell_type": "code",
      "metadata": {
        "id": "uAp6OY_bJty8",
        "colab": {
          "base_uri": "https://localhost:8080/",
          "height": 35
        },
        "outputId": "41fe3870-ae61-46a7-deff-453f66a4fdc6"
      },
      "source": [
        "df_final[df_final['len_text']<4].shape"
      ],
      "execution_count": null,
      "outputs": [
        {
          "output_type": "execute_result",
          "data": {
            "text/plain": [
              "(209, 4)"
            ]
          },
          "metadata": {
            "tags": []
          },
          "execution_count": 59
        }
      ]
    },
    {
      "cell_type": "code",
      "metadata": {
        "id": "zvs67lLENLav",
        "colab": {
          "base_uri": "https://localhost:8080/",
          "height": 35
        },
        "outputId": "50634a30-d470-454a-bb55-2c8826e49ee6"
      },
      "source": [
        "idx_to_drop = []\n",
        " \n",
        "for idx in df_final[df_final['len_text']<4].index:\n",
        "  # check if the 1st character of the short sentence if lower\n",
        "  # and this sentence to the previos line\n",
        "  if df_final.loc[idx, 'text'][0].islower():\n",
        "    df_final.loc[idx-1, 'text'] += str(' ') + str(df_final.loc[idx, 'text'])\n",
        "    idx_to_drop.append(idx)\n",
        "\n",
        "  #if 1st charater of next line (after the short sentence) is lower\n",
        "  #add 2 lines to create one sentence, then drop the second line\n",
        "  elif df_final.loc[idx, 'text'][0].isupper():\n",
        "    if df_final.loc[idx+1, 'text'][0].islower(): \n",
        "      df_final.loc[idx, 'text']+= str(' ') + str(df_final.loc[idx+1,'text'])\n",
        "      idx_to_drop.append(idx+1)\n",
        "  else:\n",
        "    idx_to_drop.append(idx)\n",
        "\n",
        "len(idx_to_drop)"
      ],
      "execution_count": null,
      "outputs": [
        {
          "output_type": "execute_result",
          "data": {
            "text/plain": [
              "43"
            ]
          },
          "metadata": {
            "tags": []
          },
          "execution_count": 60
        }
      ]
    },
    {
      "cell_type": "code",
      "metadata": {
        "id": "Tf5JsYGNoYh0",
        "colab": {
          "base_uri": "https://localhost:8080/",
          "height": 35
        },
        "outputId": "471407bd-7224-4c05-8af5-cc76cf40d93e"
      },
      "source": [
        "df_final['len_text'] = df_final['text'].apply(lambda x: len(str(x).split()))\n",
        "len(df_final[df_final['len_text']<3])"
      ],
      "execution_count": null,
      "outputs": [
        {
          "output_type": "execute_result",
          "data": {
            "text/plain": [
              "98"
            ]
          },
          "metadata": {
            "tags": []
          },
          "execution_count": 61
        }
      ]
    },
    {
      "cell_type": "code",
      "metadata": {
        "id": "TOSn5ieDzPI_",
        "colab": {
          "base_uri": "https://localhost:8080/",
          "height": 48
        },
        "outputId": "390c6cf9-20a7-4b82-8481-a37b7b87db4b"
      },
      "source": [
        "display(df_final[df_final['len_text']==2])"
      ],
      "execution_count": null,
      "outputs": [
        {
          "output_type": "display_data",
          "data": {
            "text/html": [
              "<div>\n",
              "<style scoped>\n",
              "    .dataframe tbody tr th:only-of-type {\n",
              "        vertical-align: middle;\n",
              "    }\n",
              "\n",
              "    .dataframe tbody tr th {\n",
              "        vertical-align: top;\n",
              "    }\n",
              "\n",
              "    .dataframe thead th {\n",
              "        text-align: right;\n",
              "    }\n",
              "</style>\n",
              "<table border=\"1\" class=\"dataframe\">\n",
              "  <thead>\n",
              "    <tr style=\"text-align: right;\">\n",
              "      <th></th>\n",
              "      <th>index</th>\n",
              "      <th>articleID</th>\n",
              "      <th>publication_date</th>\n",
              "      <th>text</th>\n",
              "      <th>len_text</th>\n",
              "    </tr>\n",
              "  </thead>\n",
              "  <tbody>\n",
              "  </tbody>\n",
              "</table>\n",
              "</div>"
            ],
            "text/plain": [
              "Empty DataFrame\n",
              "Columns: [index, articleID, publication_date, text, len_text]\n",
              "Index: []"
            ]
          },
          "metadata": {
            "tags": []
          }
        }
      ]
    },
    {
      "cell_type": "code",
      "metadata": {
        "id": "DFm4Zid50o5S",
        "colab": {
          "base_uri": "https://localhost:8080/",
          "height": 35
        },
        "outputId": "15db6312-4839-4122-8a7d-d95d783e1ea9"
      },
      "source": [
        "df_final.loc[446, 'text']"
      ],
      "execution_count": null,
      "outputs": [
        {
          "output_type": "execute_result",
          "data": {
            "application/vnd.google.colaboratory.intrinsic+json": {
              "type": "string"
            },
            "text/plain": [
              "'Tamoxifen retinopathy.'"
            ]
          },
          "metadata": {
            "tags": []
          },
          "execution_count": 67
        }
      ]
    },
    {
      "cell_type": "code",
      "metadata": {
        "id": "P253tggA0vTY",
        "colab": {
          "base_uri": "https://localhost:8080/",
          "height": 54
        },
        "outputId": "03492c61-8253-462e-c394-25414a6881d0"
      },
      "source": [
        "df_final.loc[446-1, 'text']"
      ],
      "execution_count": null,
      "outputs": [
        {
          "output_type": "execute_result",
          "data": {
            "application/vnd.google.colaboratory.intrinsic+json": {
              "type": "string"
            },
            "text/plain": [
              "'These findings suggest that the corneal and retinal changes are the result of a toxic effect of tamoxifen when used in the doses and duration described.'"
            ]
          },
          "metadata": {
            "tags": []
          },
          "execution_count": 68
        }
      ]
    },
    {
      "cell_type": "code",
      "metadata": {
        "id": "7r-OOBpq0xTm",
        "colab": {
          "base_uri": "https://localhost:8080/",
          "height": 35
        },
        "outputId": "48693d95-6ab2-4f4b-f515-8edbbca18ce5"
      },
      "source": [
        "df_final.loc[446+1, 'text']"
      ],
      "execution_count": null,
      "outputs": [
        {
          "output_type": "execute_result",
          "data": {
            "application/vnd.google.colaboratory.intrinsic+json": {
              "type": "string"
            },
            "text/plain": [
              "'Tamoxifen has been used as a chemotherapeutic agent with no serious side effects noted.'"
            ]
          },
          "metadata": {
            "tags": []
          },
          "execution_count": 69
        }
      ]
    },
    {
      "cell_type": "code",
      "metadata": {
        "id": "SLQ2I8hCdWK1",
        "colab": {
          "base_uri": "https://localhost:8080/",
          "height": 35
        },
        "outputId": "92eedbae-9c73-4538-bb31-55acc0d08dba"
      },
      "source": [
        "df_final = df_final[df_final['len_text']>=3]\n",
        "df_final = df_final.reset_index()\n",
        "len(df_final[df_final['len_text']<3])"
      ],
      "execution_count": null,
      "outputs": [
        {
          "output_type": "execute_result",
          "data": {
            "text/plain": [
              "0"
            ]
          },
          "metadata": {
            "tags": []
          },
          "execution_count": 72
        }
      ]
    },
    {
      "cell_type": "markdown",
      "metadata": {
        "id": "_ckoRYpAdQHc"
      },
      "source": [
        "## Tag label for each sentences"
      ]
    },
    {
      "cell_type": "code",
      "metadata": {
        "id": "4aVVcId5Nzkd"
      },
      "source": [
        "#read data in AED line by line \n",
        "with open('ADE-POS.txt') as f:\n",
        "    content_POS = f.readlines()\n",
        "content_POS = [x.strip() for x in content_POS] "
      ],
      "execution_count": null,
      "outputs": []
    },
    {
      "cell_type": "code",
      "metadata": {
        "id": "6BFtoi7T1gaB",
        "colab": {
          "base_uri": "https://localhost:8080/",
          "height": 90
        },
        "outputId": "586402c3-958f-4954-8c58-29aafbd5e03d"
      },
      "source": [
        "df_final['label'] = 0\n",
        "#df2['full_sentence'] = 0\n",
        "\n",
        "for i in tqdm(range(len(df_final))):\n",
        "  matching = [s for s in content_POS if df_final.loc[i,'text'] in s]\n",
        "  if len(matching) > 0:\n",
        "    df_final.loc[i, 'label'] = 1\n",
        "\n",
        "#check values of label_sentence\n",
        "df_final['label'].value_counts()"
      ],
      "execution_count": null,
      "outputs": [
        {
          "output_type": "stream",
          "text": [
            "100%|██████████| 20882/20882 [19:58<00:00, 17.43it/s]\n"
          ],
          "name": "stderr"
        },
        {
          "output_type": "execute_result",
          "data": {
            "text/plain": [
              "0    16688\n",
              "1     4194\n",
              "Name: label, dtype: int64"
            ]
          },
          "metadata": {
            "tags": []
          },
          "execution_count": 136
        }
      ]
    },
    {
      "cell_type": "code",
      "metadata": {
        "id": "lK6Ao4XYSW5I",
        "colab": {
          "base_uri": "https://localhost:8080/",
          "height": 198
        },
        "outputId": "2e686dbe-62ab-46b9-b2e0-08e3a94ddb12"
      },
      "source": [
        "df_final = df_final.drop('index', axis=1)\n",
        "df_final.head()"
      ],
      "execution_count": null,
      "outputs": [
        {
          "output_type": "execute_result",
          "data": {
            "text/html": [
              "<div>\n",
              "<style scoped>\n",
              "    .dataframe tbody tr th:only-of-type {\n",
              "        vertical-align: middle;\n",
              "    }\n",
              "\n",
              "    .dataframe tbody tr th {\n",
              "        vertical-align: top;\n",
              "    }\n",
              "\n",
              "    .dataframe thead th {\n",
              "        text-align: right;\n",
              "    }\n",
              "</style>\n",
              "<table border=\"1\" class=\"dataframe\">\n",
              "  <thead>\n",
              "    <tr style=\"text-align: right;\">\n",
              "      <th></th>\n",
              "      <th>articleID</th>\n",
              "      <th>publication_date</th>\n",
              "      <th>text</th>\n",
              "      <th>len_text</th>\n",
              "      <th>label</th>\n",
              "    </tr>\n",
              "  </thead>\n",
              "  <tbody>\n",
              "    <tr>\n",
              "      <th>0</th>\n",
              "      <td>3393</td>\n",
              "      <td>1976-03-01</td>\n",
              "      <td>Treatment of tardive dyskinesia.</td>\n",
              "      <td>4</td>\n",
              "      <td>0</td>\n",
              "    </tr>\n",
              "    <tr>\n",
              "      <th>1</th>\n",
              "      <td>3393</td>\n",
              "      <td>1976-03-01</td>\n",
              "      <td>An effective schema for the treatment of tardi...</td>\n",
              "      <td>25</td>\n",
              "      <td>0</td>\n",
              "    </tr>\n",
              "    <tr>\n",
              "      <th>2</th>\n",
              "      <td>3393</td>\n",
              "      <td>1976-03-01</td>\n",
              "      <td>The former is thought to be related to central...</td>\n",
              "      <td>24</td>\n",
              "      <td>0</td>\n",
              "    </tr>\n",
              "    <tr>\n",
              "      <th>3</th>\n",
              "      <td>3393</td>\n",
              "      <td>1976-03-01</td>\n",
              "      <td>The pathogenesis of tardive dyskinesia is dist...</td>\n",
              "      <td>17</td>\n",
              "      <td>0</td>\n",
              "    </tr>\n",
              "    <tr>\n",
              "      <th>4</th>\n",
              "      <td>18795</td>\n",
              "      <td>1977-06-01</td>\n",
              "      <td>Asthma and urticaria during disodium cromoglyc...</td>\n",
              "      <td>10</td>\n",
              "      <td>0</td>\n",
              "    </tr>\n",
              "  </tbody>\n",
              "</table>\n",
              "</div>"
            ],
            "text/plain": [
              "   articleID publication_date  ... len_text  label\n",
              "0       3393       1976-03-01  ...        4      0\n",
              "1       3393       1976-03-01  ...       25      0\n",
              "2       3393       1976-03-01  ...       24      0\n",
              "3       3393       1976-03-01  ...       17      0\n",
              "4      18795       1977-06-01  ...       10      0\n",
              "\n",
              "[5 rows x 5 columns]"
            ]
          },
          "metadata": {
            "tags": []
          },
          "execution_count": 140
        }
      ]
    },
    {
      "cell_type": "code",
      "metadata": {
        "id": "36NfDyKwgoXA"
      },
      "source": [
        "df_final.to_csv('data_to_NLP.csv')"
      ],
      "execution_count": null,
      "outputs": []
    },
    {
      "cell_type": "code",
      "metadata": {
        "id": "dq94zCcOJR5f"
      },
      "source": [
        ""
      ],
      "execution_count": null,
      "outputs": []
    }
  ]
}