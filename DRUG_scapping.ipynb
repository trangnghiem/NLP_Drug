{
  "nbformat": 4,
  "nbformat_minor": 0,
  "metadata": {
    "colab": {
      "name": "DRUG_scapping.ipynb",
      "provenance": [],
      "collapsed_sections": []
    },
    "kernelspec": {
      "name": "python3",
      "display_name": "Python 3"
    }
  },
  "cells": [
    {
      "cell_type": "code",
      "metadata": {
        "id": "SXTBlw82WeD3",
        "colab": {
          "base_uri": "https://localhost:8080/"
        },
        "outputId": "28b16c26-32cb-4504-86c6-f64b49d7e0ca"
      },
      "source": [
        "!python -m pip install pymed"
      ],
      "execution_count": null,
      "outputs": [
        {
          "output_type": "stream",
          "text": [
            "Collecting pymed\n",
            "  Downloading https://files.pythonhosted.org/packages/56/c3/0a260bd7b8e2d021097954accefb749f13e8fbd6b673293d33eac0905174/pymed-0.8.9-py3-none-any.whl\n",
            "Requirement already satisfied: requests>=2.20.0 in /usr/local/lib/python3.7/dist-packages (from pymed) (2.23.0)\n",
            "Requirement already satisfied: idna<3,>=2.5 in /usr/local/lib/python3.7/dist-packages (from requests>=2.20.0->pymed) (2.10)\n",
            "Requirement already satisfied: chardet<4,>=3.0.2 in /usr/local/lib/python3.7/dist-packages (from requests>=2.20.0->pymed) (3.0.4)\n",
            "Requirement already satisfied: certifi>=2017.4.17 in /usr/local/lib/python3.7/dist-packages (from requests>=2.20.0->pymed) (2020.12.5)\n",
            "Requirement already satisfied: urllib3!=1.25.0,!=1.25.1,<1.26,>=1.21.1 in /usr/local/lib/python3.7/dist-packages (from requests>=2.20.0->pymed) (1.24.3)\n",
            "Installing collected packages: pymed\n",
            "Successfully installed pymed-0.8.9\n"
          ],
          "name": "stdout"
        }
      ]
    },
    {
      "cell_type": "code",
      "metadata": {
        "id": "e_HL0tNEVwMx"
      },
      "source": [
        "import re\n",
        "import string\n",
        "import pickle\n",
        "import pandas as pd\n",
        "from pymed import PubMed\n",
        "import itertools"
      ],
      "execution_count": null,
      "outputs": []
    },
    {
      "cell_type": "code",
      "metadata": {
        "id": "b4DD3bYCWOXq",
        "colab": {
          "base_uri": "https://localhost:8080/"
        },
        "outputId": "1145b6ae-f2f8-4061-e0a7-d3387416470f"
      },
      "source": [
        "#read data in AED_NEG line by line \n",
        "with open('ADE-NEG.txt') as f:\n",
        "    content_NEG = f.readlines()\n",
        "content_NEG = [x.strip() for x in content_NEG] \n",
        "\n",
        "list_NEG_query = [re.findall('\\d+|$', content_NEG[i])[0] for i in range(len(content_NEG))]\n",
        "\n",
        "#read data in AED_POS line by line \n",
        "with open('DRUG-AE.rel') as f:\n",
        "    content_POS = f.readlines()\n",
        "content_POS = [x.strip() for x in content_POS] \n",
        "\n",
        "list_POS_query = [re.findall('\\d+|$', content_POS[i])[0] for i in range(len(content_POS))]\n",
        "\n",
        "#set of unique article IDs\n",
        "list_query = list(set(list_NEG_query + list_POS_query))\n",
        "n_requests = len(list_query)\n",
        "n_requests"
      ],
      "execution_count": null,
      "outputs": [
        {
          "output_type": "execute_result",
          "data": {
            "text/plain": [
              "2972"
            ]
          },
          "metadata": {
            "tags": []
          },
          "execution_count": 8
        }
      ]
    },
    {
      "cell_type": "code",
      "metadata": {
        "id": "y_GCsPULcSm7"
      },
      "source": [
        "def peek(iterable):\n",
        "    try:\n",
        "        first = next(iterable)\n",
        "    except StopIteration:\n",
        "        return None\n",
        "    return first, itertools.chain([first], iterable)"
      ],
      "execution_count": null,
      "outputs": []
    },
    {
      "cell_type": "code",
      "metadata": {
        "id": "iDj-oSrIYvWJ"
      },
      "source": [
        "#from pymed import PubMed # Create a PubMed object that GraphQL can use to query\n",
        "# Note that the parameters are not required but kindly requested by PubMed Central\n",
        "# https://www.ncbi.nlm.nih.gov/pmc/tools/developers/\n",
        "\n",
        "def take_article(query):\n",
        "    pubmed = PubMed(tool=\"MyTool\", email=\"my@email.address\")\n",
        "    results = pubmed.query(query, max_results=500)\n",
        "\n",
        "    res = peek(results)\n",
        "\n",
        "    if res is None:\n",
        "        print('{} not found in Pudmed'.format(query))\n",
        "        id = []\n",
        "        title = []\n",
        "        publication_date = []\n",
        "        abstract = []\n",
        "    else:\n",
        "        #print('Not empty')\n",
        "        results = pubmed.query(query, max_results=500)\n",
        "        #print(results)\n",
        "        for article in results:\n",
        "            # Extract and format information from the article\n",
        "            #article_id = article.pubmed_id\n",
        "            #id = re.findall('\\d+|$', f'{article_id}')[0]\n",
        "            id = re.findall('\\d+|$', article.pubmed_id)[0]\n",
        "            title = article.title\n",
        "            publication_date = article.publication_date\n",
        "            abstract = article.abstract    # Show information about the article\n",
        "\n",
        "            if article.keywords:\n",
        "                if None in article.keywords:\n",
        "                    article.keywords.remove(None)\n",
        "                    keywords = '\", \"'.join(article.keywords)\n",
        "\n",
        "    #id = re.findall('\\d+|$', f'{article_id}')[0] #take only the article ID (first element)\n",
        "    return id, publication_date, title, abstract"
      ],
      "execution_count": null,
      "outputs": []
    },
    {
      "cell_type": "code",
      "metadata": {
        "id": "AwRaBGFTa6hl"
      },
      "source": [
        "columns=['articleID', 'publication_date', 'title', 'abstract']\n",
        "df_list = pd.DataFrame(columns=columns)\n",
        "\n",
        "for i in range(n_requests): #n_requests\n",
        "  #query = re.findall('\\d+|$', content[i])[0]   #[int(s) for s in content[i].split() if s.isdigit()]\n",
        "  #label = re.findall('NEG', content[i])[0]\n",
        "  #title.append(content[i][(content[i].find('NEG')+4):].replace(\"'\", \"\"))\n",
        "\n",
        "   df_list = df_list.append(pd.Series(take_article(list_query[i]), index=columns), ignore_index=True)\n",
        "\n",
        "#SAVE data to csv\n",
        "df_list.to_csv('data_articleID_abstract.csv')\n",
        "#SAVE data to pickle\n",
        "with open('data_articleID_abstract.pickle', 'wb') as handle:\n",
        "    pickle.dump(df, handle, protocol=pickle.HIGHEST_PROTOCOL)"
      ],
      "execution_count": null,
      "outputs": []
    },
    {
      "cell_type": "code",
      "metadata": {
        "id": "p84cl11JeY6B"
      },
      "source": [
        ""
      ],
      "execution_count": null,
      "outputs": []
    }
  ]
}