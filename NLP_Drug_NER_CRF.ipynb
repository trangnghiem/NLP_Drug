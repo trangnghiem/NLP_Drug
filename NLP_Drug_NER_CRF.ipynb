{
  "nbformat": 4,
  "nbformat_minor": 0,
  "metadata": {
    "colab": {
      "name": "NLP_Drug_NER_CRF.ipynb",
      "provenance": [],
      "collapsed_sections": []
    },
    "kernelspec": {
      "name": "python3",
      "display_name": "Python 3"
    }
  },
  "cells": [
    {
      "cell_type": "code",
      "metadata": {
        "id": "ZEJVNZhr7-SM",
        "colab": {
          "base_uri": "https://localhost:8080/"
        },
        "outputId": "aac19109-f3c2-4cbf-eaa2-38bf711b238c"
      },
      "source": [
        "!pip install sklearn_crfsuite"
      ],
      "execution_count": null,
      "outputs": [
        {
          "output_type": "stream",
          "name": "stdout",
          "text": [
            "Collecting sklearn_crfsuite\n",
            "  Downloading sklearn_crfsuite-0.3.6-py2.py3-none-any.whl (12 kB)\n",
            "Requirement already satisfied: tqdm>=2.0 in /usr/local/lib/python3.7/dist-packages (from sklearn_crfsuite) (4.63.0)\n",
            "Collecting python-crfsuite>=0.8.3\n",
            "  Downloading python_crfsuite-0.9.7-cp37-cp37m-manylinux1_x86_64.whl (743 kB)\n",
            "\u001b[K     |████████████████████████████████| 743 kB 3.2 MB/s \n",
            "\u001b[?25hRequirement already satisfied: tabulate in /usr/local/lib/python3.7/dist-packages (from sklearn_crfsuite) (0.8.9)\n",
            "Requirement already satisfied: six in /usr/local/lib/python3.7/dist-packages (from sklearn_crfsuite) (1.15.0)\n",
            "Installing collected packages: python-crfsuite, sklearn-crfsuite\n",
            "Successfully installed python-crfsuite-0.9.7 sklearn-crfsuite-0.3.6\n"
          ]
        }
      ]
    },
    {
      "cell_type": "code",
      "metadata": {
        "id": "lVrIg7Uv8D1K",
        "colab": {
          "base_uri": "https://localhost:8080/"
        },
        "outputId": "3aea9bee-8833-4490-d36f-43e0d00e05fb"
      },
      "source": [
        "!pip install seqeval"
      ],
      "execution_count": null,
      "outputs": [
        {
          "output_type": "stream",
          "name": "stdout",
          "text": [
            "Collecting seqeval\n",
            "  Downloading seqeval-1.2.2.tar.gz (43 kB)\n",
            "\u001b[?25l\r\u001b[K     |███████▌                        | 10 kB 19.7 MB/s eta 0:00:01\r\u001b[K     |███████████████                 | 20 kB 9.2 MB/s eta 0:00:01\r\u001b[K     |██████████████████████▌         | 30 kB 6.3 MB/s eta 0:00:01\r\u001b[K     |██████████████████████████████  | 40 kB 5.9 MB/s eta 0:00:01\r\u001b[K     |████████████████████████████████| 43 kB 814 kB/s \n",
            "\u001b[?25hRequirement already satisfied: numpy>=1.14.0 in /usr/local/lib/python3.7/dist-packages (from seqeval) (1.21.5)\n",
            "Requirement already satisfied: scikit-learn>=0.21.3 in /usr/local/lib/python3.7/dist-packages (from seqeval) (1.0.2)\n",
            "Requirement already satisfied: threadpoolctl>=2.0.0 in /usr/local/lib/python3.7/dist-packages (from scikit-learn>=0.21.3->seqeval) (3.1.0)\n",
            "Requirement already satisfied: scipy>=1.1.0 in /usr/local/lib/python3.7/dist-packages (from scikit-learn>=0.21.3->seqeval) (1.4.1)\n",
            "Requirement already satisfied: joblib>=0.11 in /usr/local/lib/python3.7/dist-packages (from scikit-learn>=0.21.3->seqeval) (1.1.0)\n",
            "Building wheels for collected packages: seqeval\n",
            "  Building wheel for seqeval (setup.py) ... \u001b[?25l\u001b[?25hdone\n",
            "  Created wheel for seqeval: filename=seqeval-1.2.2-py3-none-any.whl size=16180 sha256=b8d95a2c24b4685fa3661dbd9a09ffc6d92407d6c8dc43938107330f42dc43a0\n",
            "  Stored in directory: /root/.cache/pip/wheels/05/96/ee/7cac4e74f3b19e3158dce26a20a1c86b3533c43ec72a549fd7\n",
            "Successfully built seqeval\n",
            "Installing collected packages: seqeval\n",
            "Successfully installed seqeval-1.2.2\n"
          ]
        }
      ]
    },
    {
      "cell_type": "code",
      "metadata": {
        "id": "jqiAvlh-B0Pc",
        "colab": {
          "base_uri": "https://localhost:8080/"
        },
        "outputId": "ed3d7f16-caff-435f-8a0a-4352320b1404"
      },
      "source": [
        "!pip install eli5"
      ],
      "execution_count": null,
      "outputs": [
        {
          "output_type": "stream",
          "name": "stdout",
          "text": [
            "Collecting eli5\n",
            "  Downloading eli5-0.11.0-py2.py3-none-any.whl (106 kB)\n",
            "\u001b[?25l\r\u001b[K     |███                             | 10 kB 19.6 MB/s eta 0:00:01\r\u001b[K     |██████▏                         | 20 kB 10.3 MB/s eta 0:00:01\r\u001b[K     |█████████▎                      | 30 kB 8.1 MB/s eta 0:00:01\r\u001b[K     |████████████▍                   | 40 kB 7.3 MB/s eta 0:00:01\r\u001b[K     |███████████████▌                | 51 kB 3.2 MB/s eta 0:00:01\r\u001b[K     |██████████████████▌             | 61 kB 3.8 MB/s eta 0:00:01\r\u001b[K     |█████████████████████▋          | 71 kB 4.3 MB/s eta 0:00:01\r\u001b[K     |████████████████████████▊       | 81 kB 4.4 MB/s eta 0:00:01\r\u001b[K     |███████████████████████████▉    | 92 kB 4.9 MB/s eta 0:00:01\r\u001b[K     |███████████████████████████████ | 102 kB 4.2 MB/s eta 0:00:01\r\u001b[K     |████████████████████████████████| 106 kB 4.2 MB/s \n",
            "\u001b[?25hRequirement already satisfied: attrs>16.0.0 in /usr/local/lib/python3.7/dist-packages (from eli5) (21.4.0)\n",
            "Requirement already satisfied: jinja2 in /usr/local/lib/python3.7/dist-packages (from eli5) (2.11.3)\n",
            "Requirement already satisfied: six in /usr/local/lib/python3.7/dist-packages (from eli5) (1.15.0)\n",
            "Requirement already satisfied: tabulate>=0.7.7 in /usr/local/lib/python3.7/dist-packages (from eli5) (0.8.9)\n",
            "Requirement already satisfied: scipy in /usr/local/lib/python3.7/dist-packages (from eli5) (1.4.1)\n",
            "Requirement already satisfied: graphviz in /usr/local/lib/python3.7/dist-packages (from eli5) (0.10.1)\n",
            "Requirement already satisfied: scikit-learn>=0.20 in /usr/local/lib/python3.7/dist-packages (from eli5) (1.0.2)\n",
            "Requirement already satisfied: numpy>=1.9.0 in /usr/local/lib/python3.7/dist-packages (from eli5) (1.21.5)\n",
            "Requirement already satisfied: threadpoolctl>=2.0.0 in /usr/local/lib/python3.7/dist-packages (from scikit-learn>=0.20->eli5) (3.1.0)\n",
            "Requirement already satisfied: joblib>=0.11 in /usr/local/lib/python3.7/dist-packages (from scikit-learn>=0.20->eli5) (1.1.0)\n",
            "Requirement already satisfied: MarkupSafe>=0.23 in /usr/local/lib/python3.7/dist-packages (from jinja2->eli5) (2.0.1)\n",
            "Installing collected packages: eli5\n",
            "Successfully installed eli5-0.11.0\n"
          ]
        }
      ]
    },
    {
      "cell_type": "code",
      "metadata": {
        "id": "jkYIGlFHDs7J"
      },
      "source": [
        "import pandas as pd\n",
        "import numpy as np\n",
        "\n",
        "import os\n",
        "import re\n",
        "import string\n",
        "import pickle\n",
        "import matplotlib.pyplot as plt\n",
        "%matplotlib inline\n",
        "from collections import Counter \n",
        "\n",
        "from sklearn_crfsuite import CRF\n",
        "import eli5\n",
        "#from sklearn.metrics import make_scorer, classification_report\n",
        "\n",
        "from sklearn.model_selection import train_test_split, GridSearchCV, RandomizedSearchCV\n",
        "from sklearn.model_selection import RepeatedKFold, cross_val_score\n",
        "\n",
        "from sklearn_crfsuite.metrics import flat_classification_report, flat_f1_score, flat_precision_score, flat_recall_score\n",
        "import scipy.stats\n",
        "from sklearn.metrics import make_scorer\n",
        "#from seqeval.metrics import precision_score, recall_score, f1_score, classification_report\n"
      ],
      "execution_count": null,
      "outputs": []
    },
    {
      "cell_type": "code",
      "metadata": {
        "id": "vtytO3oTDzm9",
        "colab": {
          "base_uri": "https://localhost:8080/",
          "height": 198
        },
        "outputId": "1d7c15a2-7f16-4bb7-ffca-90fb9aa0d3d6"
      },
      "source": [
        "with open('ADE_POS_to_NER.pickle', 'rb') as handle:\n",
        "    df = pickle.load(handle)\n",
        "\n",
        "df = df[['sentence', 'Word', 'tag']]\n",
        "df[:5]"
      ],
      "execution_count": null,
      "outputs": [
        {
          "output_type": "execute_result",
          "data": {
            "text/html": [
              "<div>\n",
              "<style scoped>\n",
              "    .dataframe tbody tr th:only-of-type {\n",
              "        vertical-align: middle;\n",
              "    }\n",
              "\n",
              "    .dataframe tbody tr th {\n",
              "        vertical-align: top;\n",
              "    }\n",
              "\n",
              "    .dataframe thead th {\n",
              "        text-align: right;\n",
              "    }\n",
              "</style>\n",
              "<table border=\"1\" class=\"dataframe\">\n",
              "  <thead>\n",
              "    <tr style=\"text-align: right;\">\n",
              "      <th></th>\n",
              "      <th>sentence</th>\n",
              "      <th>Word</th>\n",
              "      <th>tag</th>\n",
              "    </tr>\n",
              "  </thead>\n",
              "  <tbody>\n",
              "    <tr>\n",
              "      <th>0</th>\n",
              "      <td>1. Changes in the plasma cortisol level were r...</td>\n",
              "      <td>1.</td>\n",
              "      <td>O</td>\n",
              "    </tr>\n",
              "    <tr>\n",
              "      <th>1</th>\n",
              "      <td>1. Changes in the plasma cortisol level were r...</td>\n",
              "      <td>Changes</td>\n",
              "      <td>I_ADR</td>\n",
              "    </tr>\n",
              "    <tr>\n",
              "      <th>2</th>\n",
              "      <td>1. Changes in the plasma cortisol level were r...</td>\n",
              "      <td>in</td>\n",
              "      <td>I_ADR</td>\n",
              "    </tr>\n",
              "    <tr>\n",
              "      <th>3</th>\n",
              "      <td>1. Changes in the plasma cortisol level were r...</td>\n",
              "      <td>the</td>\n",
              "      <td>I_ADR</td>\n",
              "    </tr>\n",
              "    <tr>\n",
              "      <th>4</th>\n",
              "      <td>1. Changes in the plasma cortisol level were r...</td>\n",
              "      <td>plasma</td>\n",
              "      <td>I_ADR</td>\n",
              "    </tr>\n",
              "  </tbody>\n",
              "</table>\n",
              "</div>"
            ],
            "text/plain": [
              "                                            sentence     Word    tag\n",
              "0  1. Changes in the plasma cortisol level were r...       1.      O\n",
              "1  1. Changes in the plasma cortisol level were r...  Changes  I_ADR\n",
              "2  1. Changes in the plasma cortisol level were r...       in  I_ADR\n",
              "3  1. Changes in the plasma cortisol level were r...      the  I_ADR\n",
              "4  1. Changes in the plasma cortisol level were r...   plasma  I_ADR"
            ]
          },
          "metadata": {
            "tags": []
          },
          "execution_count": 5
        }
      ]
    },
    {
      "cell_type": "markdown",
      "metadata": {
        "id": "KhNFbZzu8UML"
      },
      "source": [
        "### Get sentences with word's label"
      ]
    },
    {
      "cell_type": "code",
      "metadata": {
        "id": "QAnGJowjJeRj"
      },
      "source": [
        "class SentenceGetter(object):\n",
        "    \n",
        "    def __init__(self, data):\n",
        "        self.n_sent = 1\n",
        "        self.data = data\n",
        "        self.empty = False\n",
        "        agg_func = lambda s: [(w,  t) for w,  t in zip(s['Word'].values.tolist(), \n",
        "                                                           \n",
        "                                                           s['tag'].values.tolist())]\n",
        "        self.grouped = self.data.groupby('sentence').apply(agg_func)\n",
        "        self.sentences = [s for s in self.grouped]\n",
        "        \n",
        "    def get_next(self):\n",
        "        try: \n",
        "            s = self.grouped['Sentence: {}'.format(self.n_sent)]\n",
        "            self.n_sent += 1\n",
        "            return s \n",
        "        except:\n",
        "            return None"
      ],
      "execution_count": null,
      "outputs": []
    },
    {
      "cell_type": "code",
      "metadata": {
        "id": "Y5raEHnx8WVc"
      },
      "source": [
        "#Displaying one full sentence\n",
        "getter = SentenceGetter(df)\n",
        "\n",
        "#sentence with its tag\n",
        "sentences = getter.sentences"
      ],
      "execution_count": null,
      "outputs": []
    },
    {
      "cell_type": "markdown",
      "metadata": {
        "id": "rWgf0HnQ8e76"
      },
      "source": [
        "### Total sentences, words, index"
      ]
    },
    {
      "cell_type": "code",
      "metadata": {
        "id": "1ek4eHW68crc",
        "colab": {
          "base_uri": "https://localhost:8080/",
          "height": 90
        },
        "outputId": "f75e872d-9a17-4edf-e459-c91199b0bbe8"
      },
      "source": [
        "getter = SentenceGetter(df)\n",
        "sentences = getter.sentences\n",
        "\n",
        "words = list(set(df[\"Word\"].values))\n",
        "words.append(\"ENDPAD\")\n",
        "n_words = len(words)\n",
        "print('Total unique words: ', n_words)\n",
        "\n",
        "max_len = max([len(s) for s in sentences])\n",
        "print ('Maximum sequence length:', max_len)\n",
        "\n",
        "tags = list(set(df[\"tag\"].values))\n",
        "print('Tags are : ', tags)\n",
        "num_tag = df['tag'].nunique()\n",
        "print('Number of tags : ', num_tag)"
      ],
      "execution_count": null,
      "outputs": [
        {
          "output_type": "stream",
          "text": [
            "Total unique words:  8715\n",
            "Maximum sequence length: 94\n",
            "Tags are :  ['O', 'I_Drug', 'I_ADR']\n",
            "Number of tags :  3\n"
          ],
          "name": "stdout"
        }
      ]
    },
    {
      "cell_type": "markdown",
      "metadata": {
        "id": "e_5yykp68hhC"
      },
      "source": [
        ""
      ]
    },
    {
      "cell_type": "code",
      "metadata": {
        "id": "q0iT4acN8hNE"
      },
      "source": [
        "def word2features(sent, i):\n",
        "    word = sent[i][0]\n",
        "    postag = sent[i][1]\n",
        "\n",
        "    features = {\n",
        "        'bias': 1.0,\n",
        "        'word.lower()': word.lower(),\n",
        "        'word[-3:]': word[-3:],\n",
        "        'word[-2:]': word[-2:],\n",
        "        'word.isupper()': word.isupper(),\n",
        "        'word.istitle()': word.istitle(),\n",
        "        'word.isdigit()': word.isdigit(),\n",
        "        #'postag': postag,\n",
        "        #'postag[:2]': postag[:2],\n",
        "    }\n",
        "    if i > 0:\n",
        "        word1 = sent[i-1][0]\n",
        "        postag1 = sent[i-1][1]\n",
        "        features.update({\n",
        "            '-1:word.lower()': word1.lower(),\n",
        "            '-1:word.istitle()': word1.istitle(),\n",
        "            '-1:word.isupper()': word1.isupper(),\n",
        "            #'-1:postag': postag1,\n",
        "            #'-1:postag[:2]': postag1[:2],\n",
        "        })\n",
        "    else:\n",
        "        features['BOS'] = True\n",
        "\n",
        "    if i < len(sent)-1:\n",
        "        word1 = sent[i+1][0]\n",
        "        postag1 = sent[i+1][1]\n",
        "        features.update({\n",
        "            '+1:word.lower()': word1.lower(),\n",
        "            '+1:word.istitle()': word1.istitle(),\n",
        "            '+1:word.isupper()': word1.isupper(),\n",
        "            #'+1:postag': postag1,\n",
        "            #'+1:postag[:2]': postag1[:2],\n",
        "        })\n",
        "    else:\n",
        "        features['EOS'] = True\n",
        "\n",
        "    return features\n",
        "\n",
        "def sent2features(sent):\n",
        "  return [word2features(sent, i) for i in range(len(sent))]\n",
        "\n",
        "def sent2labels(sent):\n",
        "  return [label for token, label in sent]\n",
        "\n",
        "def sent2tokens(sent):\n",
        "  return [token for token, label in sent]"
      ],
      "execution_count": null,
      "outputs": []
    },
    {
      "cell_type": "code",
      "metadata": {
        "id": "ca_3OTom89Yl"
      },
      "source": [
        "#X = [sent2features(s) for s in sentences]\n",
        "#y = [sent2labels(s) for s in sentences]\n",
        "#X_train, X_test, y_train, y_test = train_test_split(X, y, test_size = 0.3, random_state=99)"
      ],
      "execution_count": null,
      "outputs": []
    },
    {
      "cell_type": "code",
      "metadata": {
        "id": "MK-0un-sOsi3"
      },
      "source": [
        "train_sentences, test_sentences = train_test_split(sentences, test_size=0.3, random_state=42)\n",
        "\n",
        "#Train set\n",
        "X_train = [sent2features(s) for s in train_sentences]\n",
        "y_train = [sent2labels(s) for s in train_sentences]\n",
        "\n",
        "#Test set\n",
        "X_test = [sent2features(s) for s in test_sentences]\n",
        "y_test = [sent2labels(s) for s in test_sentences]"
      ],
      "execution_count": null,
      "outputs": []
    },
    {
      "cell_type": "code",
      "metadata": {
        "id": "q9m297PS9RFJ"
      },
      "source": [
        "#train_sentences[0]"
      ],
      "execution_count": null,
      "outputs": []
    },
    {
      "cell_type": "code",
      "metadata": {
        "id": "p013HCr79jjY",
        "colab": {
          "base_uri": "https://localhost:8080/",
          "height": 54
        },
        "outputId": "afec4003-4a31-4e0c-d2e8-6ba61f954420"
      },
      "source": [
        "'''\n",
        "crf = CRF(algorithm = 'lbfgs',\n",
        "         c1 = 0.1,\n",
        "         c2 = 0.1,\n",
        "         max_iterations = 100,\n",
        "         all_possible_transitions = False)\n",
        "crf.fit(X_train, y_train)\n",
        "\n",
        "eli5.show_weights(crf, top=3)\n",
        "'''"
      ],
      "execution_count": null,
      "outputs": [
        {
          "output_type": "execute_result",
          "data": {
            "application/vnd.google.colaboratory.intrinsic+json": {
              "type": "string"
            },
            "text/plain": [
              "\"\\ncrf = CRF(algorithm = 'lbfgs',\\n         c1 = 0.1,\\n         c2 = 0.1,\\n         max_iterations = 100,\\n         all_possible_transitions = False)\\ncrf.fit(X_train, y_train)\\n\\neli5.show_weights(crf, top=3)\\n\""
            ]
          },
          "metadata": {
            "tags": []
          },
          "execution_count": 13
        }
      ]
    },
    {
      "cell_type": "markdown",
      "metadata": {
        "id": "Ez9H6rMIsZQB"
      },
      "source": [
        "### Fine tunning hyper-parameters +  Cross-validation "
      ]
    },
    {
      "cell_type": "code",
      "metadata": {
        "id": "vIDRgy4Nsewu",
        "colab": {
          "base_uri": "https://localhost:8080/",
          "height": 455
        },
        "outputId": "82effadc-9d53-4bc2-8092-a701b2d2e8a8"
      },
      "source": [
        "# define fixed parameters and parameters to search\n",
        "crf = CRF(\n",
        "    algorithm='lbfgs',\n",
        "    max_iterations=100,\n",
        "    all_possible_transitions=True\n",
        ")\n",
        "params_space = {\n",
        "    'c1': scipy.stats.expon(scale=0.5),\n",
        "    'c2': scipy.stats.expon(scale=0.05),\n",
        "}\n",
        "\n",
        "# use the same metric for evaluation\n",
        "f1_scorer = make_scorer(flat_f1_score, average='weighted', labels=tags)\n",
        "\n",
        "# search\n",
        "rs = RandomizedSearchCV(crf, params_space,\n",
        "                        cv=3,\n",
        "                        verbose=1,\n",
        "                        n_jobs=-1,\n",
        "                        n_iter=5,\n",
        "                        scoring=f1_scorer)\n",
        "rs.fit(X_train, y_train)"
      ],
      "execution_count": null,
      "outputs": [
        {
          "output_type": "stream",
          "text": [
            "Fitting 3 folds for each of 5 candidates, totalling 15 fits\n"
          ],
          "name": "stdout"
        },
        {
          "output_type": "stream",
          "text": [
            "/usr/local/lib/python3.6/dist-packages/sklearn/base.py:197: FutureWarning: From version 0.24, get_params will raise an AttributeError if a parameter cannot be retrieved as an instance attribute. Previously it would return None.\n",
            "  FutureWarning)\n",
            "[Parallel(n_jobs=-1)]: Using backend LokyBackend with 2 concurrent workers.\n",
            "[Parallel(n_jobs=-1)]: Done  15 out of  15 | elapsed:  1.4min finished\n"
          ],
          "name": "stderr"
        },
        {
          "output_type": "execute_result",
          "data": {
            "text/plain": [
              "RandomizedSearchCV(cv=3, error_score=nan,\n",
              "                   estimator=CRF(algorithm='lbfgs', all_possible_states=None,\n",
              "                                 all_possible_transitions=True, averaging=None,\n",
              "                                 c=None, c1=None, c2=None,\n",
              "                                 calibration_candidates=None,\n",
              "                                 calibration_eta=None,\n",
              "                                 calibration_max_trials=None,\n",
              "                                 calibration_rate=None,\n",
              "                                 calibration_samples=None, delta=None,\n",
              "                                 epsilon=None, error_sensitive=None, gamma=None,\n",
              "                                 keep_...\n",
              "                   iid='deprecated', n_iter=5, n_jobs=-1,\n",
              "                   param_distributions={'c1': <scipy.stats._distn_infrastructure.rv_frozen object at 0x7fd1c18dde80>,\n",
              "                                        'c2': <scipy.stats._distn_infrastructure.rv_frozen object at 0x7fd1c18b1048>},\n",
              "                   pre_dispatch='2*n_jobs', random_state=None, refit=True,\n",
              "                   return_train_score=False,\n",
              "                   scoring=make_scorer(flat_f1_score, average=weighted, labels=['O', 'I_Drug', 'I_ADR']),\n",
              "                   verbose=1)"
            ]
          },
          "metadata": {
            "tags": []
          },
          "execution_count": 14
        }
      ]
    },
    {
      "cell_type": "code",
      "metadata": {
        "id": "wpJIEUBxt9ua",
        "colab": {
          "base_uri": "https://localhost:8080/",
          "height": 72
        },
        "outputId": "c7e4d869-ccb2-4cee-8e38-f351994b8c9b"
      },
      "source": [
        "# crf = rs.best_estimator_\n",
        "print('best params:', rs.best_params_)\n",
        "print('best CV score:', rs.best_score_)\n",
        "print('model size: {:0.2f}M'.format(rs.best_estimator_.size_ / 1000000))"
      ],
      "execution_count": null,
      "outputs": [
        {
          "output_type": "stream",
          "text": [
            "best params: {'c1': 0.4808461315123546, 'c2': 0.001129524235590414}\n",
            "best CV score: 0.9066450994456607\n",
            "model size: 0.47M\n"
          ],
          "name": "stdout"
        }
      ]
    },
    {
      "cell_type": "code",
      "metadata": {
        "id": "K5XkWvxpuHvP",
        "colab": {
          "base_uri": "https://localhost:8080/",
          "height": 199
        },
        "outputId": "1cc4c46a-e467-4599-c3f3-a1ad17cc2b24"
      },
      "source": [
        "crf = rs.best_estimator_\n",
        "y_pred = crf.predict(X_test)\n",
        "print(flat_classification_report(y_test, y_pred, digits=4))"
      ],
      "execution_count": null,
      "outputs": [
        {
          "output_type": "stream",
          "text": [
            "              precision    recall  f1-score   support\n",
            "\n",
            "       I_ADR     0.8374    0.7426    0.7872      3850\n",
            "      I_Drug     0.8775    0.8734    0.8754      1911\n",
            "           O     0.9392    0.9609    0.9499     19319\n",
            "\n",
            "    accuracy                         0.9207     25080\n",
            "   macro avg     0.8847    0.8589    0.8708     25080\n",
            "weighted avg     0.9189    0.9207    0.9193     25080\n",
            "\n"
          ],
          "name": "stdout"
        }
      ]
    },
    {
      "cell_type": "code",
      "metadata": {
        "id": "NR7gSq-tdnom",
        "colab": {
          "base_uri": "https://localhost:8080/",
          "height": 72
        },
        "outputId": "7bdba3bc-5fb1-4826-de13-67d0cbfb74ba"
      },
      "source": [
        "print('Precision on Test set : {:.2%}'.format(flat_precision_score(y_test, y_pred, average='weighted', labels=tags)))\n",
        "print('Recall on Test set : {:.2%}'.format(flat_recall_score(y_test, y_pred, average='weighted', labels=tags)))\n",
        "print('F1-socre on Test set : {:.2%}'.format(flat_f1_score(y_test, y_pred, average='weighted', labels=tags)))"
      ],
      "execution_count": null,
      "outputs": [
        {
          "output_type": "stream",
          "text": [
            "Precision on Test set : 91.89%\n",
            "Recall on Test set : 92.07%\n",
            "F1-socre on Test set : 91.93%\n"
          ],
          "name": "stdout"
        }
      ]
    },
    {
      "cell_type": "code",
      "metadata": {
        "id": "L_iadzomufAo",
        "colab": {
          "base_uri": "https://localhost:8080/",
          "height": 325
        },
        "outputId": "cf5b1fcd-eb4f-4de0-f109-0728e5d9f299"
      },
      "source": [
        "eli5.show_weights(crf, top=3)"
      ],
      "execution_count": null,
      "outputs": [
        {
          "output_type": "stream",
          "text": [
            "/usr/local/lib/python3.6/dist-packages/sklearn/base.py:197: FutureWarning: From version 0.24, get_params will raise an AttributeError if a parameter cannot be retrieved as an instance attribute. Previously it would return None.\n",
            "  FutureWarning)\n"
          ],
          "name": "stderr"
        },
        {
          "output_type": "execute_result",
          "data": {
            "text/html": [
              "\n",
              "    <style>\n",
              "    table.eli5-weights tr:hover {\n",
              "        filter: brightness(85%);\n",
              "    }\n",
              "</style>\n",
              "\n",
              "\n",
              "\n",
              "    \n",
              "\n",
              "    \n",
              "\n",
              "    \n",
              "        \n",
              "\n",
              "\n",
              "<table class=\"eli5-transition-features\" style=\"margin-bottom: 0.5em;\">\n",
              "    <thead>\n",
              "        <tr>\n",
              "            <td>From \\ To</td>\n",
              "            \n",
              "                <th>I_ADR</th>\n",
              "            \n",
              "                <th>I_Drug</th>\n",
              "            \n",
              "                <th>O</th>\n",
              "            \n",
              "        </tr>\n",
              "    </thead>\n",
              "    <tbody>\n",
              "        \n",
              "            \n",
              "                <tr>\n",
              "                    <th>I_ADR</th>\n",
              "                    \n",
              "                        <td style=\"background-color: hsl(120, 100.00%, 86.15%)\" title=\"I_ADR &rArr; I_ADR\">\n",
              "                            1.398\n",
              "                        </td>\n",
              "                    \n",
              "                        <td style=\"background-color: hsl(0, 100.00%, 80.56%)\" title=\"I_ADR &rArr; I_Drug\">\n",
              "                            -2.27\n",
              "                        </td>\n",
              "                    \n",
              "                        <td style=\"background-color: hsl(0, 100.00%, 94.30%)\" title=\"I_ADR &rArr; O\">\n",
              "                            -0.393\n",
              "                        </td>\n",
              "                    \n",
              "                </tr>\n",
              "            \n",
              "                <tr>\n",
              "                    <th>I_Drug</th>\n",
              "                    \n",
              "                        <td style=\"background-color: hsl(0, 100.00%, 80.00%)\" title=\"I_Drug &rArr; I_ADR\">\n",
              "                            -2.364\n",
              "                        </td>\n",
              "                    \n",
              "                        <td style=\"background-color: hsl(120, 100.00%, 87.83%)\" title=\"I_Drug &rArr; I_Drug\">\n",
              "                            1.162\n",
              "                        </td>\n",
              "                    \n",
              "                        <td style=\"background-color: hsl(0, 100.00%, 95.84%)\" title=\"I_Drug &rArr; O\">\n",
              "                            -0.251\n",
              "                        </td>\n",
              "                    \n",
              "                </tr>\n",
              "            \n",
              "                <tr>\n",
              "                    <th>O</th>\n",
              "                    \n",
              "                        <td style=\"background-color: hsl(0, 100.00%, 83.97%)\" title=\"O &rArr; I_ADR\">\n",
              "                            -1.723\n",
              "                        </td>\n",
              "                    \n",
              "                        <td style=\"background-color: hsl(0, 100.00%, 92.66%)\" title=\"O &rArr; I_Drug\">\n",
              "                            -0.565\n",
              "                        </td>\n",
              "                    \n",
              "                        <td style=\"background-color: hsl(120, 100.00%, 81.84%)\" title=\"O &rArr; O\">\n",
              "                            2.059\n",
              "                        </td>\n",
              "                    \n",
              "                </tr>\n",
              "            \n",
              "        \n",
              "    </tbody>\n",
              "</table>\n",
              "    \n",
              "\n",
              "    \n",
              "\n",
              "    \n",
              "\n",
              "    \n",
              "\n",
              "\n",
              "    \n",
              "\n",
              "    \n",
              "\n",
              "    \n",
              "\n",
              "    \n",
              "        \n",
              "\n",
              "    \n",
              "        <table class=\"eli5-weights-wrapper\" style=\"border-collapse: collapse; border: none; margin-bottom: 1.5em;\">\n",
              "            <tr>\n",
              "                \n",
              "                    <td style=\"padding: 0.5em; border: 1px solid black; text-align: center;\">\n",
              "                        <b>\n",
              "    \n",
              "        y=I_ADR\n",
              "    \n",
              "</b>\n",
              "\n",
              "top features\n",
              "                    </td>\n",
              "                \n",
              "                    <td style=\"padding: 0.5em; border: 1px solid black; text-align: center;\">\n",
              "                        <b>\n",
              "    \n",
              "        y=I_Drug\n",
              "    \n",
              "</b>\n",
              "\n",
              "top features\n",
              "                    </td>\n",
              "                \n",
              "                    <td style=\"padding: 0.5em; border: 1px solid black; text-align: center;\">\n",
              "                        <b>\n",
              "    \n",
              "        y=O\n",
              "    \n",
              "</b>\n",
              "\n",
              "top features\n",
              "                    </td>\n",
              "                \n",
              "            </tr>\n",
              "            <tr>\n",
              "                \n",
              "                    \n",
              "                        <td style=\"padding: 0px; border: 1px solid black; vertical-align: top;\">\n",
              "                            \n",
              "                                \n",
              "                                    \n",
              "                                    \n",
              "    \n",
              "    <table class=\"eli5-weights\"\n",
              "           style=\"border-collapse: collapse; border: none; margin-top: 0em; table-layout: auto; width: 100%;\">\n",
              "        <thead>\n",
              "        <tr style=\"border: none;\">\n",
              "            \n",
              "                <th style=\"padding: 0 1em 0 0.5em; text-align: right; border: none;\" title=\"Feature weights. Note that weights do not account for feature value scales, so if feature values have different scales, features with highest weights might not be the most important.\">\n",
              "                    Weight<sup>?</sup>\n",
              "                </th>\n",
              "            \n",
              "            <th style=\"padding: 0 0.5em 0 0.5em; text-align: left; border: none;\">Feature</th>\n",
              "            \n",
              "        </tr>\n",
              "        </thead>\n",
              "        <tbody>\n",
              "        \n",
              "            <tr style=\"background-color: hsl(120, 100.00%, 80.00%); border: none;\">\n",
              "    <td style=\"padding: 0 1em 0 0.5em; text-align: right; border: none;\">\n",
              "        +11.377\n",
              "    </td>\n",
              "    <td style=\"padding: 0 0.5em 0 0.5em; text-align: left; border: none;\">\n",
              "        -1:word.lower():gynaecologist\n",
              "    </td>\n",
              "    \n",
              "</tr>\n",
              "        \n",
              "            <tr style=\"background-color: hsl(120, 100.00%, 85.12%); border: none;\">\n",
              "    <td style=\"padding: 0 1em 0 0.5em; text-align: right; border: none;\">\n",
              "        +7.455\n",
              "    </td>\n",
              "    <td style=\"padding: 0 0.5em 0 0.5em; text-align: left; border: none;\">\n",
              "        -1:word.lower():pose\n",
              "    </td>\n",
              "    \n",
              "</tr>\n",
              "        \n",
              "            <tr style=\"background-color: hsl(120, 100.00%, 85.25%); border: none;\">\n",
              "    <td style=\"padding: 0 1em 0 0.5em; text-align: right; border: none;\">\n",
              "        +7.365\n",
              "    </td>\n",
              "    <td style=\"padding: 0 0.5em 0 0.5em; text-align: left; border: none;\">\n",
              "        -1:word.lower():cancer:\n",
              "    </td>\n",
              "    \n",
              "</tr>\n",
              "        \n",
              "        \n",
              "            <tr style=\"background-color: hsl(120, 100.00%, 85.25%); border: none;\">\n",
              "                <td colspan=\"2\" style=\"padding: 0 0.5em 0 0.5em; text-align: center; border: none; white-space: nowrap;\">\n",
              "                    <i>&hellip; 2253 more positive &hellip;</i>\n",
              "                </td>\n",
              "            </tr>\n",
              "        \n",
              "\n",
              "        \n",
              "            <tr style=\"background-color: hsl(0, 100.00%, 80.00%); border: none;\">\n",
              "                <td colspan=\"2\" style=\"padding: 0 0.5em 0 0.5em; text-align: center; border: none; white-space: nowrap;\">\n",
              "                    <i>&hellip; 421 more negative &hellip;</i>\n",
              "                </td>\n",
              "            </tr>\n",
              "        \n",
              "        \n",
              "\n",
              "        </tbody>\n",
              "    </table>\n",
              "\n",
              "                                \n",
              "                            \n",
              "                        </td>\n",
              "                    \n",
              "                        <td style=\"padding: 0px; border: 1px solid black; vertical-align: top;\">\n",
              "                            \n",
              "                                \n",
              "                                    \n",
              "                                    \n",
              "    \n",
              "    <table class=\"eli5-weights\"\n",
              "           style=\"border-collapse: collapse; border: none; margin-top: 0em; table-layout: auto; width: 100%;\">\n",
              "        <thead>\n",
              "        <tr style=\"border: none;\">\n",
              "            \n",
              "                <th style=\"padding: 0 1em 0 0.5em; text-align: right; border: none;\" title=\"Feature weights. Note that weights do not account for feature value scales, so if feature values have different scales, features with highest weights might not be the most important.\">\n",
              "                    Weight<sup>?</sup>\n",
              "                </th>\n",
              "            \n",
              "            <th style=\"padding: 0 0.5em 0 0.5em; text-align: left; border: none;\">Feature</th>\n",
              "            \n",
              "        </tr>\n",
              "        </thead>\n",
              "        <tbody>\n",
              "        \n",
              "            <tr style=\"background-color: hsl(120, 100.00%, 82.11%); border: none;\">\n",
              "    <td style=\"padding: 0 1em 0 0.5em; text-align: right; border: none;\">\n",
              "        +9.704\n",
              "    </td>\n",
              "    <td style=\"padding: 0 0.5em 0 0.5em; text-align: left; border: none;\">\n",
              "        word.lower():phenobarbital\n",
              "    </td>\n",
              "    \n",
              "</tr>\n",
              "        \n",
              "            <tr style=\"background-color: hsl(120, 100.00%, 84.09%); border: none;\">\n",
              "    <td style=\"padding: 0 1em 0 0.5em; text-align: right; border: none;\">\n",
              "        +8.207\n",
              "    </td>\n",
              "    <td style=\"padding: 0 0.5em 0 0.5em; text-align: left; border: none;\">\n",
              "        -1:word.lower():distortion\n",
              "    </td>\n",
              "    \n",
              "</tr>\n",
              "        \n",
              "            <tr style=\"background-color: hsl(120, 100.00%, 84.62%); border: none;\">\n",
              "    <td style=\"padding: 0 1em 0 0.5em; text-align: right; border: none;\">\n",
              "        +7.820\n",
              "    </td>\n",
              "    <td style=\"padding: 0 0.5em 0 0.5em; text-align: left; border: none;\">\n",
              "        -1:word.lower():nadir\n",
              "    </td>\n",
              "    \n",
              "</tr>\n",
              "        \n",
              "        \n",
              "            <tr style=\"background-color: hsl(120, 100.00%, 84.62%); border: none;\">\n",
              "                <td colspan=\"2\" style=\"padding: 0 0.5em 0 0.5em; text-align: center; border: none; white-space: nowrap;\">\n",
              "                    <i>&hellip; 1011 more positive &hellip;</i>\n",
              "                </td>\n",
              "            </tr>\n",
              "        \n",
              "\n",
              "        \n",
              "            <tr style=\"background-color: hsl(0, 100.00%, 80.00%); border: none;\">\n",
              "                <td colspan=\"2\" style=\"padding: 0 0.5em 0 0.5em; text-align: center; border: none; white-space: nowrap;\">\n",
              "                    <i>&hellip; 142 more negative &hellip;</i>\n",
              "                </td>\n",
              "            </tr>\n",
              "        \n",
              "        \n",
              "\n",
              "        </tbody>\n",
              "    </table>\n",
              "\n",
              "                                \n",
              "                            \n",
              "                        </td>\n",
              "                    \n",
              "                        <td style=\"padding: 0px; border: 1px solid black; vertical-align: top;\">\n",
              "                            \n",
              "                                \n",
              "                                    \n",
              "                                    \n",
              "    \n",
              "    <table class=\"eli5-weights\"\n",
              "           style=\"border-collapse: collapse; border: none; margin-top: 0em; table-layout: auto; width: 100%;\">\n",
              "        <thead>\n",
              "        <tr style=\"border: none;\">\n",
              "            \n",
              "                <th style=\"padding: 0 1em 0 0.5em; text-align: right; border: none;\" title=\"Feature weights. Note that weights do not account for feature value scales, so if feature values have different scales, features with highest weights might not be the most important.\">\n",
              "                    Weight<sup>?</sup>\n",
              "                </th>\n",
              "            \n",
              "            <th style=\"padding: 0 0.5em 0 0.5em; text-align: left; border: none;\">Feature</th>\n",
              "            \n",
              "        </tr>\n",
              "        </thead>\n",
              "        <tbody>\n",
              "        \n",
              "            <tr style=\"background-color: hsl(120, 100.00%, 85.09%); border: none;\">\n",
              "    <td style=\"padding: 0 1em 0 0.5em; text-align: right; border: none;\">\n",
              "        +7.477\n",
              "    </td>\n",
              "    <td style=\"padding: 0 0.5em 0 0.5em; text-align: left; border: none;\">\n",
              "        word.lower():after\n",
              "    </td>\n",
              "    \n",
              "</tr>\n",
              "        \n",
              "            <tr style=\"background-color: hsl(120, 100.00%, 86.31%); border: none;\">\n",
              "    <td style=\"padding: 0 1em 0 0.5em; text-align: right; border: none;\">\n",
              "        +6.621\n",
              "    </td>\n",
              "    <td style=\"padding: 0 0.5em 0 0.5em; text-align: left; border: none;\">\n",
              "        word.lower():as\n",
              "    </td>\n",
              "    \n",
              "</tr>\n",
              "        \n",
              "            <tr style=\"background-color: hsl(120, 100.00%, 87.06%); border: none;\">\n",
              "    <td style=\"padding: 0 1em 0 0.5em; text-align: right; border: none;\">\n",
              "        +6.110\n",
              "    </td>\n",
              "    <td style=\"padding: 0 0.5em 0 0.5em; text-align: left; border: none;\">\n",
              "        word.lower():whereas\n",
              "    </td>\n",
              "    \n",
              "</tr>\n",
              "        \n",
              "        \n",
              "            <tr style=\"background-color: hsl(120, 100.00%, 87.06%); border: none;\">\n",
              "                <td colspan=\"2\" style=\"padding: 0 0.5em 0 0.5em; text-align: center; border: none; white-space: nowrap;\">\n",
              "                    <i>&hellip; 1870 more positive &hellip;</i>\n",
              "                </td>\n",
              "            </tr>\n",
              "        \n",
              "\n",
              "        \n",
              "            <tr style=\"background-color: hsl(0, 100.00%, 80.00%); border: none;\">\n",
              "                <td colspan=\"2\" style=\"padding: 0 0.5em 0 0.5em; text-align: center; border: none; white-space: nowrap;\">\n",
              "                    <i>&hellip; 1154 more negative &hellip;</i>\n",
              "                </td>\n",
              "            </tr>\n",
              "        \n",
              "        \n",
              "\n",
              "        </tbody>\n",
              "    </table>\n",
              "\n",
              "                                \n",
              "                            \n",
              "                        </td>\n",
              "                    \n",
              "                \n",
              "            </tr>\n",
              "        </table>\n",
              "    \n",
              "\n",
              "    \n",
              "        \n",
              "\n",
              "\n",
              "    \n",
              "        \n",
              "\n",
              "\n",
              "    \n",
              "        \n",
              "\n",
              "\n",
              "    \n",
              "\n",
              "\n",
              "    \n",
              "\n",
              "    \n",
              "\n",
              "    \n",
              "\n",
              "\n",
              "    \n",
              "\n",
              "    \n",
              "\n",
              "    \n",
              "\n",
              "    \n",
              "\n",
              "    \n",
              "\n",
              "    \n",
              "\n",
              "\n",
              "    \n",
              "\n",
              "    \n",
              "\n",
              "    \n",
              "\n",
              "    \n",
              "\n",
              "    \n",
              "\n",
              "    \n",
              "\n",
              "\n",
              "\n"
            ],
            "text/plain": [
              "<IPython.core.display.HTML object>"
            ]
          },
          "metadata": {
            "tags": []
          },
          "execution_count": 18
        }
      ]
    },
    {
      "cell_type": "code",
      "metadata": {
        "id": "Z6rFQHoU6N-b"
      },
      "source": [
        "#SAVE Model\n",
        "pickle.dump(crf, open('NLP_Drug_NER_CRF.pickle', 'wb'))"
      ],
      "execution_count": null,
      "outputs": []
    },
    {
      "cell_type": "code",
      "metadata": {
        "id": "EwXX0Shv6e4c",
        "colab": {
          "base_uri": "https://localhost:8080/",
          "height": 199
        },
        "outputId": "7e656ce6-499b-4a5e-94c6-973d595165e8"
      },
      "source": [
        "# load the model from disk\n",
        "loaded_model = pickle.load(open('NLP_Drug_NER_CRF.pickle', 'rb'))\n",
        "\n",
        "result = flat_classification_report(y_test, loaded_model.predict(X_test), digits=4)\n",
        "print(result)"
      ],
      "execution_count": null,
      "outputs": [
        {
          "output_type": "stream",
          "text": [
            "              precision    recall  f1-score   support\n",
            "\n",
            "       I_ADR     0.8374    0.7426    0.7872      3850\n",
            "      I_Drug     0.8775    0.8734    0.8754      1911\n",
            "           O     0.9392    0.9609    0.9499     19319\n",
            "\n",
            "    accuracy                         0.9207     25080\n",
            "   macro avg     0.8847    0.8589    0.8708     25080\n",
            "weighted avg     0.9189    0.9207    0.9193     25080\n",
            "\n"
          ],
          "name": "stdout"
        }
      ]
    },
    {
      "cell_type": "markdown",
      "metadata": {
        "id": "_Y5XHQkoiua2"
      },
      "source": [
        "### What our classifier learned ?"
      ]
    },
    {
      "cell_type": "code",
      "metadata": {
        "id": "GzOeGD46ixdT",
        "colab": {
          "base_uri": "https://localhost:8080/",
          "height": 235
        },
        "outputId": "3e28bd6f-d67d-4b7e-bf85-842e92a357fc"
      },
      "source": [
        "def print_transitions(trans_features):\n",
        "    for (label_from, label_to), weight in trans_features:\n",
        "        print(\"%-6s -> %-7s %0.6f\" % (label_from, label_to, weight))\n",
        "print(\"Top likely transitions:\")\n",
        "print_transitions(Counter(crf.transition_features_).most_common(3))\n",
        "print(\"\\nTop unlikely transitions:\")\n",
        "print_transitions(Counter(crf.transition_features_).most_common()[-6:])"
      ],
      "execution_count": null,
      "outputs": [
        {
          "output_type": "stream",
          "text": [
            "Top likely transitions:\n",
            "O      -> O       2.058832\n",
            "I_ADR  -> I_ADR   1.398106\n",
            "I_Drug -> I_Drug  1.162295\n",
            "\n",
            "Top unlikely transitions:\n",
            "I_Drug -> O       -0.251219\n",
            "I_ADR  -> O       -0.393158\n",
            "O      -> I_Drug  -0.564575\n",
            "O      -> I_ADR   -1.722634\n",
            "I_ADR  -> I_Drug  -2.270160\n",
            "I_Drug -> I_ADR   -2.363947\n"
          ],
          "name": "stdout"
        }
      ]
    },
    {
      "cell_type": "markdown",
      "metadata": {
        "id": "w3md3-DijM0s"
      },
      "source": [
        "* It is likely that an Out entity ('O') will be followed by a token inside Out entity ('O'), I_ADR followed by I_ADR, I_Drug followed by I_Drug\n",
        "* Transitions from I_ADR to I_Drug , from I_Drug to I_ADR, O to I_ADR are penalized hugely."
      ]
    },
    {
      "cell_type": "markdown",
      "metadata": {
        "id": "BnoXhLjCi7fb"
      },
      "source": [
        "### Prediction on a random test phrase"
      ]
    },
    {
      "cell_type": "code",
      "metadata": {
        "id": "tK66m0J0BlFf",
        "colab": {
          "base_uri": "https://localhost:8080/",
          "height": 35
        },
        "outputId": "292b3b7f-7491-4ef9-d4b0-73c2212af1c7"
      },
      "source": [
        "test_phrases = [\" \".join([s[0] for s in sent]) for sent in test_sentences]\n",
        "test_phrases[0]"
      ],
      "execution_count": null,
      "outputs": [
        {
          "output_type": "execute_result",
          "data": {
            "application/vnd.google.colaboratory.intrinsic+json": {
              "type": "string"
            },
            "text/plain": [
              "'Gabapentin toxicity in renal failure: the importance of dose adjustment'"
            ]
          },
          "metadata": {
            "tags": []
          },
          "execution_count": 20
        }
      ]
    },
    {
      "cell_type": "code",
      "metadata": {
        "id": "8bMLqSIjEKL9",
        "colab": {
          "base_uri": "https://localhost:8080/",
          "height": 399
        },
        "outputId": "dc66a9e0-93a0-46b7-bb8f-7af675c6870c"
      },
      "source": [
        "# At every execution model picks some random test sample from test set.\n",
        "i = np.random.randint(0,len(X_test)) # choose a random number between 0 and len(X_te)\n",
        "X_to_test = [sent2features(test_sentences[i])]\n",
        "y_true_test = [sent2labels(test_sentences[i])]\n",
        "\n",
        "print(\"Sample number {} of {} (Test Set)\".format(i, len(X_test)))\n",
        "print(test_phrases[i])\n",
        "# Visualization\n",
        "print(\"{:20}||{:6}||{}\".format(\"Word\", \"True\", \"Pred\"))\n",
        "print(30 * \"=\")\n",
        "for w, t, pred in zip(test_phrases[i].split(), y_true_test[0], crf.predict(X_to_test)[0]):\n",
        "    if w != 0:\n",
        "        print(\"{:20}: {:6} {}\".format(w, t, pred))"
      ],
      "execution_count": null,
      "outputs": [
        {
          "output_type": "stream",
          "text": [
            "Sample number 1066 of 1282 (Test Set)\n",
            "An asymptomatic HIV - infected woman experienced right - sided renal colicky pain during treatment with indinavir\n",
            "Word                ||True  ||Pred\n",
            "==============================\n",
            "An                  : O      O\n",
            "asymptomatic        : O      O\n",
            "HIV                 : O      O\n",
            "-                   : O      O\n",
            "infected            : O      O\n",
            "woman               : O      O\n",
            "experienced         : O      O\n",
            "right               : O      O\n",
            "-                   : O      O\n",
            "sided               : O      O\n",
            "renal               : I_ADR  I_ADR\n",
            "colicky             : I_ADR  I_ADR\n",
            "pain                : I_ADR  I_ADR\n",
            "during              : O      O\n",
            "treatment           : O      O\n",
            "with                : O      O\n",
            "indinavir           : I_Drug I_Drug\n"
          ],
          "name": "stdout"
        }
      ]
    },
    {
      "cell_type": "code",
      "metadata": {
        "id": "qJNACfGcsc7V"
      },
      "source": [
        ""
      ],
      "execution_count": null,
      "outputs": []
    }
  ]
}